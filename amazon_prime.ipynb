{
  "nbformat": 4,
  "nbformat_minor": 0,
  "metadata": {
    "colab": {
      "provenance": [],
      "collapsed_sections": [],
      "authorship_tag": "ABX9TyOOTRJz8eDOIFqZCCGfqto/",
      "include_colab_link": true
    },
    "kernelspec": {
      "name": "python3",
      "display_name": "Python 3"
    },
    "language_info": {
      "name": "python"
    }
  },
  "cells": [
    {
      "cell_type": "markdown",
      "metadata": {
        "id": "view-in-github",
        "colab_type": "text"
      },
      "source": [
        "<a href=\"https://colab.research.google.com/github/Siyan-Tao/Amazon-Prime-Video-Project/blob/main/amazon_prime.ipynb\" target=\"_parent\"><img src=\"https://colab.research.google.com/assets/colab-badge.svg\" alt=\"Open In Colab\"/></a>"
      ]
    },
    {
      "cell_type": "code",
      "execution_count": null,
      "metadata": {
        "id": "usSSxZ3-o-Yx"
      },
      "outputs": [],
      "source": [
        "import pandas as pd\n",
        "import numpy as np\n",
        "import sklearn as sl\n",
        "import sklearn.preprocessing as preprocessing\n",
        "from sklearn.model_selection import train_test_split\n",
        "import seaborn as sns\n",
        "import matplotlib.pyplot as plt\n",
        "pd.set_option('display.float_format', lambda x: '%.3f' % x)\n",
        "pd.set_option('display.max_columns', None)\n",
        "pd.set_option('display.max_rows', None)\n",
        "pd.set_option('max_colwidth', 100)"
      ]
    },
    {
      "cell_type": "code",
      "source": [
        "from google.colab import files\n",
        "uploaded = files.upload()"
      ],
      "metadata": {
        "colab": {
          "resources": {
            "http://localhost:8080/nbextensions/google.colab/files.js": {
              "data": "Ly8gQ29weXJpZ2h0IDIwMTcgR29vZ2xlIExMQwovLwovLyBMaWNlbnNlZCB1bmRlciB0aGUgQXBhY2hlIExpY2Vuc2UsIFZlcnNpb24gMi4wICh0aGUgIkxpY2Vuc2UiKTsKLy8geW91IG1heSBub3QgdXNlIHRoaXMgZmlsZSBleGNlcHQgaW4gY29tcGxpYW5jZSB3aXRoIHRoZSBMaWNlbnNlLgovLyBZb3UgbWF5IG9idGFpbiBhIGNvcHkgb2YgdGhlIExpY2Vuc2UgYXQKLy8KLy8gICAgICBodHRwOi8vd3d3LmFwYWNoZS5vcmcvbGljZW5zZXMvTElDRU5TRS0yLjAKLy8KLy8gVW5sZXNzIHJlcXVpcmVkIGJ5IGFwcGxpY2FibGUgbGF3IG9yIGFncmVlZCB0byBpbiB3cml0aW5nLCBzb2Z0d2FyZQovLyBkaXN0cmlidXRlZCB1bmRlciB0aGUgTGljZW5zZSBpcyBkaXN0cmlidXRlZCBvbiBhbiAiQVMgSVMiIEJBU0lTLAovLyBXSVRIT1VUIFdBUlJBTlRJRVMgT1IgQ09ORElUSU9OUyBPRiBBTlkgS0lORCwgZWl0aGVyIGV4cHJlc3Mgb3IgaW1wbGllZC4KLy8gU2VlIHRoZSBMaWNlbnNlIGZvciB0aGUgc3BlY2lmaWMgbGFuZ3VhZ2UgZ292ZXJuaW5nIHBlcm1pc3Npb25zIGFuZAovLyBsaW1pdGF0aW9ucyB1bmRlciB0aGUgTGljZW5zZS4KCi8qKgogKiBAZmlsZW92ZXJ2aWV3IEhlbHBlcnMgZm9yIGdvb2dsZS5jb2xhYiBQeXRob24gbW9kdWxlLgogKi8KKGZ1bmN0aW9uKHNjb3BlKSB7CmZ1bmN0aW9uIHNwYW4odGV4dCwgc3R5bGVBdHRyaWJ1dGVzID0ge30pIHsKICBjb25zdCBlbGVtZW50ID0gZG9jdW1lbnQuY3JlYXRlRWxlbWVudCgnc3BhbicpOwogIGVsZW1lbnQudGV4dENvbnRlbnQgPSB0ZXh0OwogIGZvciAoY29uc3Qga2V5IG9mIE9iamVjdC5rZXlzKHN0eWxlQXR0cmlidXRlcykpIHsKICAgIGVsZW1lbnQuc3R5bGVba2V5XSA9IHN0eWxlQXR0cmlidXRlc1trZXldOwogIH0KICByZXR1cm4gZWxlbWVudDsKfQoKLy8gTWF4IG51bWJlciBvZiBieXRlcyB3aGljaCB3aWxsIGJlIHVwbG9hZGVkIGF0IGEgdGltZS4KY29uc3QgTUFYX1BBWUxPQURfU0laRSA9IDEwMCAqIDEwMjQ7CgpmdW5jdGlvbiBfdXBsb2FkRmlsZXMoaW5wdXRJZCwgb3V0cHV0SWQpIHsKICBjb25zdCBzdGVwcyA9IHVwbG9hZEZpbGVzU3RlcChpbnB1dElkLCBvdXRwdXRJZCk7CiAgY29uc3Qgb3V0cHV0RWxlbWVudCA9IGRvY3VtZW50LmdldEVsZW1lbnRCeUlkKG91dHB1dElkKTsKICAvLyBDYWNoZSBzdGVwcyBvbiB0aGUgb3V0cHV0RWxlbWVudCB0byBtYWtlIGl0IGF2YWlsYWJsZSBmb3IgdGhlIG5leHQgY2FsbAogIC8vIHRvIHVwbG9hZEZpbGVzQ29udGludWUgZnJvbSBQeXRob24uCiAgb3V0cHV0RWxlbWVudC5zdGVwcyA9IHN0ZXBzOwoKICByZXR1cm4gX3VwbG9hZEZpbGVzQ29udGludWUob3V0cHV0SWQpOwp9CgovLyBUaGlzIGlzIHJvdWdobHkgYW4gYXN5bmMgZ2VuZXJhdG9yIChub3Qgc3VwcG9ydGVkIGluIHRoZSBicm93c2VyIHlldCksCi8vIHdoZXJlIHRoZXJlIGFyZSBtdWx0aXBsZSBhc3luY2hyb25vdXMgc3RlcHMgYW5kIHRoZSBQeXRob24gc2lkZSBpcyBnb2luZwovLyB0byBwb2xsIGZvciBjb21wbGV0aW9uIG9mIGVhY2ggc3RlcC4KLy8gVGhpcyB1c2VzIGEgUHJvbWlzZSB0byBibG9jayB0aGUgcHl0aG9uIHNpZGUgb24gY29tcGxldGlvbiBvZiBlYWNoIHN0ZXAsCi8vIHRoZW4gcGFzc2VzIHRoZSByZXN1bHQgb2YgdGhlIHByZXZpb3VzIHN0ZXAgYXMgdGhlIGlucHV0IHRvIHRoZSBuZXh0IHN0ZXAuCmZ1bmN0aW9uIF91cGxvYWRGaWxlc0NvbnRpbnVlKG91dHB1dElkKSB7CiAgY29uc3Qgb3V0cHV0RWxlbWVudCA9IGRvY3VtZW50LmdldEVsZW1lbnRCeUlkKG91dHB1dElkKTsKICBjb25zdCBzdGVwcyA9IG91dHB1dEVsZW1lbnQuc3RlcHM7CgogIGNvbnN0IG5leHQgPSBzdGVwcy5uZXh0KG91dHB1dEVsZW1lbnQubGFzdFByb21pc2VWYWx1ZSk7CiAgcmV0dXJuIFByb21pc2UucmVzb2x2ZShuZXh0LnZhbHVlLnByb21pc2UpLnRoZW4oKHZhbHVlKSA9PiB7CiAgICAvLyBDYWNoZSB0aGUgbGFzdCBwcm9taXNlIHZhbHVlIHRvIG1ha2UgaXQgYXZhaWxhYmxlIHRvIHRoZSBuZXh0CiAgICAvLyBzdGVwIG9mIHRoZSBnZW5lcmF0b3IuCiAgICBvdXRwdXRFbGVtZW50Lmxhc3RQcm9taXNlVmFsdWUgPSB2YWx1ZTsKICAgIHJldHVybiBuZXh0LnZhbHVlLnJlc3BvbnNlOwogIH0pOwp9CgovKioKICogR2VuZXJhdG9yIGZ1bmN0aW9uIHdoaWNoIGlzIGNhbGxlZCBiZXR3ZWVuIGVhY2ggYXN5bmMgc3RlcCBvZiB0aGUgdXBsb2FkCiAqIHByb2Nlc3MuCiAqIEBwYXJhbSB7c3RyaW5nfSBpbnB1dElkIEVsZW1lbnQgSUQgb2YgdGhlIGlucHV0IGZpbGUgcGlja2VyIGVsZW1lbnQuCiAqIEBwYXJhbSB7c3RyaW5nfSBvdXRwdXRJZCBFbGVtZW50IElEIG9mIHRoZSBvdXRwdXQgZGlzcGxheS4KICogQHJldHVybiB7IUl0ZXJhYmxlPCFPYmplY3Q+fSBJdGVyYWJsZSBvZiBuZXh0IHN0ZXBzLgogKi8KZnVuY3Rpb24qIHVwbG9hZEZpbGVzU3RlcChpbnB1dElkLCBvdXRwdXRJZCkgewogIGNvbnN0IGlucHV0RWxlbWVudCA9IGRvY3VtZW50LmdldEVsZW1lbnRCeUlkKGlucHV0SWQpOwogIGlucHV0RWxlbWVudC5kaXNhYmxlZCA9IGZhbHNlOwoKICBjb25zdCBvdXRwdXRFbGVtZW50ID0gZG9jdW1lbnQuZ2V0RWxlbWVudEJ5SWQob3V0cHV0SWQpOwogIG91dHB1dEVsZW1lbnQuaW5uZXJIVE1MID0gJyc7CgogIGNvbnN0IHBpY2tlZFByb21pc2UgPSBuZXcgUHJvbWlzZSgocmVzb2x2ZSkgPT4gewogICAgaW5wdXRFbGVtZW50LmFkZEV2ZW50TGlzdGVuZXIoJ2NoYW5nZScsIChlKSA9PiB7CiAgICAgIHJlc29sdmUoZS50YXJnZXQuZmlsZXMpOwogICAgfSk7CiAgfSk7CgogIGNvbnN0IGNhbmNlbCA9IGRvY3VtZW50LmNyZWF0ZUVsZW1lbnQoJ2J1dHRvbicpOwogIGlucHV0RWxlbWVudC5wYXJlbnRFbGVtZW50LmFwcGVuZENoaWxkKGNhbmNlbCk7CiAgY2FuY2VsLnRleHRDb250ZW50ID0gJ0NhbmNlbCB1cGxvYWQnOwogIGNvbnN0IGNhbmNlbFByb21pc2UgPSBuZXcgUHJvbWlzZSgocmVzb2x2ZSkgPT4gewogICAgY2FuY2VsLm9uY2xpY2sgPSAoKSA9PiB7CiAgICAgIHJlc29sdmUobnVsbCk7CiAgICB9OwogIH0pOwoKICAvLyBXYWl0IGZvciB0aGUgdXNlciB0byBwaWNrIHRoZSBmaWxlcy4KICBjb25zdCBmaWxlcyA9IHlpZWxkIHsKICAgIHByb21pc2U6IFByb21pc2UucmFjZShbcGlja2VkUHJvbWlzZSwgY2FuY2VsUHJvbWlzZV0pLAogICAgcmVzcG9uc2U6IHsKICAgICAgYWN0aW9uOiAnc3RhcnRpbmcnLAogICAgfQogIH07CgogIGNhbmNlbC5yZW1vdmUoKTsKCiAgLy8gRGlzYWJsZSB0aGUgaW5wdXQgZWxlbWVudCBzaW5jZSBmdXJ0aGVyIHBpY2tzIGFyZSBub3QgYWxsb3dlZC4KICBpbnB1dEVsZW1lbnQuZGlzYWJsZWQgPSB0cnVlOwoKICBpZiAoIWZpbGVzKSB7CiAgICByZXR1cm4gewogICAgICByZXNwb25zZTogewogICAgICAgIGFjdGlvbjogJ2NvbXBsZXRlJywKICAgICAgfQogICAgfTsKICB9CgogIGZvciAoY29uc3QgZmlsZSBvZiBmaWxlcykgewogICAgY29uc3QgbGkgPSBkb2N1bWVudC5jcmVhdGVFbGVtZW50KCdsaScpOwogICAgbGkuYXBwZW5kKHNwYW4oZmlsZS5uYW1lLCB7Zm9udFdlaWdodDogJ2JvbGQnfSkpOwogICAgbGkuYXBwZW5kKHNwYW4oCiAgICAgICAgYCgke2ZpbGUudHlwZSB8fCAnbi9hJ30pIC0gJHtmaWxlLnNpemV9IGJ5dGVzLCBgICsKICAgICAgICBgbGFzdCBtb2RpZmllZDogJHsKICAgICAgICAgICAgZmlsZS5sYXN0TW9kaWZpZWREYXRlID8gZmlsZS5sYXN0TW9kaWZpZWREYXRlLnRvTG9jYWxlRGF0ZVN0cmluZygpIDoKICAgICAgICAgICAgICAgICAgICAgICAgICAgICAgICAgICAgJ24vYSd9IC0gYCkpOwogICAgY29uc3QgcGVyY2VudCA9IHNwYW4oJzAlIGRvbmUnKTsKICAgIGxpLmFwcGVuZENoaWxkKHBlcmNlbnQpOwoKICAgIG91dHB1dEVsZW1lbnQuYXBwZW5kQ2hpbGQobGkpOwoKICAgIGNvbnN0IGZpbGVEYXRhUHJvbWlzZSA9IG5ldyBQcm9taXNlKChyZXNvbHZlKSA9PiB7CiAgICAgIGNvbnN0IHJlYWRlciA9IG5ldyBGaWxlUmVhZGVyKCk7CiAgICAgIHJlYWRlci5vbmxvYWQgPSAoZSkgPT4gewogICAgICAgIHJlc29sdmUoZS50YXJnZXQucmVzdWx0KTsKICAgICAgfTsKICAgICAgcmVhZGVyLnJlYWRBc0FycmF5QnVmZmVyKGZpbGUpOwogICAgfSk7CiAgICAvLyBXYWl0IGZvciB0aGUgZGF0YSB0byBiZSByZWFkeS4KICAgIGxldCBmaWxlRGF0YSA9IHlpZWxkIHsKICAgICAgcHJvbWlzZTogZmlsZURhdGFQcm9taXNlLAogICAgICByZXNwb25zZTogewogICAgICAgIGFjdGlvbjogJ2NvbnRpbnVlJywKICAgICAgfQogICAgfTsKCiAgICAvLyBVc2UgYSBjaHVua2VkIHNlbmRpbmcgdG8gYXZvaWQgbWVzc2FnZSBzaXplIGxpbWl0cy4gU2VlIGIvNjIxMTU2NjAuCiAgICBsZXQgcG9zaXRpb24gPSAwOwogICAgZG8gewogICAgICBjb25zdCBsZW5ndGggPSBNYXRoLm1pbihmaWxlRGF0YS5ieXRlTGVuZ3RoIC0gcG9zaXRpb24sIE1BWF9QQVlMT0FEX1NJWkUpOwogICAgICBjb25zdCBjaHVuayA9IG5ldyBVaW50OEFycmF5KGZpbGVEYXRhLCBwb3NpdGlvbiwgbGVuZ3RoKTsKICAgICAgcG9zaXRpb24gKz0gbGVuZ3RoOwoKICAgICAgY29uc3QgYmFzZTY0ID0gYnRvYShTdHJpbmcuZnJvbUNoYXJDb2RlLmFwcGx5KG51bGwsIGNodW5rKSk7CiAgICAgIHlpZWxkIHsKICAgICAgICByZXNwb25zZTogewogICAgICAgICAgYWN0aW9uOiAnYXBwZW5kJywKICAgICAgICAgIGZpbGU6IGZpbGUubmFtZSwKICAgICAgICAgIGRhdGE6IGJhc2U2NCwKICAgICAgICB9LAogICAgICB9OwoKICAgICAgbGV0IHBlcmNlbnREb25lID0gZmlsZURhdGEuYnl0ZUxlbmd0aCA9PT0gMCA/CiAgICAgICAgICAxMDAgOgogICAgICAgICAgTWF0aC5yb3VuZCgocG9zaXRpb24gLyBmaWxlRGF0YS5ieXRlTGVuZ3RoKSAqIDEwMCk7CiAgICAgIHBlcmNlbnQudGV4dENvbnRlbnQgPSBgJHtwZXJjZW50RG9uZX0lIGRvbmVgOwoKICAgIH0gd2hpbGUgKHBvc2l0aW9uIDwgZmlsZURhdGEuYnl0ZUxlbmd0aCk7CiAgfQoKICAvLyBBbGwgZG9uZS4KICB5aWVsZCB7CiAgICByZXNwb25zZTogewogICAgICBhY3Rpb246ICdjb21wbGV0ZScsCiAgICB9CiAgfTsKfQoKc2NvcGUuZ29vZ2xlID0gc2NvcGUuZ29vZ2xlIHx8IHt9OwpzY29wZS5nb29nbGUuY29sYWIgPSBzY29wZS5nb29nbGUuY29sYWIgfHwge307CnNjb3BlLmdvb2dsZS5jb2xhYi5fZmlsZXMgPSB7CiAgX3VwbG9hZEZpbGVzLAogIF91cGxvYWRGaWxlc0NvbnRpbnVlLAp9Owp9KShzZWxmKTsK",
              "ok": true,
              "headers": [
                [
                  "content-type",
                  "application/javascript"
                ]
              ],
              "status": 200,
              "status_text": ""
            }
          },
          "base_uri": "https://localhost:8080/",
          "height": 73
        },
        "id": "51nRHqPQrUDE",
        "outputId": "990cf234-9bb6-4d48-a11d-f95eb4afb2bb"
      },
      "execution_count": null,
      "outputs": [
        {
          "output_type": "display_data",
          "data": {
            "text/html": [
              "\n",
              "     <input type=\"file\" id=\"files-3aa71bd0-42ce-4756-a5fc-9beed90d4414\" name=\"files[]\" multiple disabled\n",
              "        style=\"border:none\" />\n",
              "     <output id=\"result-3aa71bd0-42ce-4756-a5fc-9beed90d4414\">\n",
              "      Upload widget is only available when the cell has been executed in the\n",
              "      current browser session. Please rerun this cell to enable.\n",
              "      </output>\n",
              "      <script src=\"/nbextensions/google.colab/files.js\"></script> "
            ],
            "text/plain": [
              "<IPython.core.display.HTML object>"
            ]
          },
          "metadata": {}
        },
        {
          "output_type": "stream",
          "name": "stdout",
          "text": [
            "Saving TVdata.txt to TVdata.txt\n"
          ]
        }
      ]
    },
    {
      "cell_type": "code",
      "source": [
        "TV = pd.read_table('TVdata.txt', header = 0, sep = ',', lineterminator = '\\r')\n",
        "print (TV.head())"
      ],
      "metadata": {
        "colab": {
          "base_uri": "https://localhost:8080/"
        },
        "id": "TkM2CbuBrhq0",
        "outputId": "50e2a997-b3d8-4832-f10a-2ea0271302c0"
      },
      "execution_count": null,
      "outputs": [
        {
          "output_type": "stream",
          "name": "stdout",
          "text": [
            "   video_id  cvt_per_day  weighted_categorical_position  \\\n",
            "0    385504   307127.606                              1   \n",
            "1    300175   270338.426                              1   \n",
            "2    361899   256165.867                              1   \n",
            "3    308314   196622.721                              3   \n",
            "4    307201   159841.652                              1   \n",
            "\n",
            "   weighted_horizontal_poition  import_id  release_year  \\\n",
            "0                            3  lionsgate          2013   \n",
            "1                            3  lionsgate          2013   \n",
            "2                            3      other          2012   \n",
            "3                            4  lionsgate          2008   \n",
            "4                            3  lionsgate          2013   \n",
            "\n",
            "                                          genres  imdb_votes    budget  \\\n",
            "0                          Action,Thriller,Drama       69614  15000000   \n",
            "1                          Comedy,Crime,Thriller       46705  15000000   \n",
            "2                                    Crime,Drama      197596  26000000   \n",
            "3  Thriller,Drama,War,Documentary,Mystery,Action      356339  15000000   \n",
            "4             Crime,Thriller,Mystery,Documentary       46720  27220000   \n",
            "\n",
            "   boxoffice  imdb_rating  duration_in_mins  metacritic_score       awards  \\\n",
            "0   42930462        6.500           112.301                51  other award   \n",
            "1    3301046        6.500            94.983                41     no award   \n",
            "2   37397291        7.300           115.764                58  other award   \n",
            "3   15700000        7.600           130.704                94        Oscar   \n",
            "4    8551228        6.400           105.546                37  other award   \n",
            "\n",
            "    mpaa  star_category  \n",
            "0  PG-13          1.710  \n",
            "1      R          3.250  \n",
            "2      R          2.647  \n",
            "3      R          1.667  \n",
            "4      R          3.067  \n"
          ]
        }
      ]
    },
    {
      "cell_type": "code",
      "source": [
        "if TV['video_id'].duplicated().sum() == 0:\n",
        "  print('no duplicated index')"
      ],
      "metadata": {
        "colab": {
          "base_uri": "https://localhost:8080/"
        },
        "id": "Lz_mc7aBsYk_",
        "outputId": "93b2ac98-4ad1-4fd0-bb7d-d14ea153cdd5"
      },
      "execution_count": null,
      "outputs": [
        {
          "output_type": "stream",
          "name": "stdout",
          "text": [
            "no duplicated index\n"
          ]
        }
      ]
    },
    {
      "cell_type": "code",
      "source": [
        "TV.info()\n",
        "print(TV.drop(columns=['video_id','release_year'],axis=1).describe(percentiles=[0.1,0.25,0.5,0.75,0.95]))\n",
        "print((TV==0).sum(axis=0)/TV.shape[0])"
      ],
      "metadata": {
        "colab": {
          "base_uri": "https://localhost:8080/"
        },
        "id": "aww4XDaas7h_",
        "outputId": "62b77994-1bd6-416b-8aca-5638e085a058"
      },
      "execution_count": null,
      "outputs": [
        {
          "output_type": "stream",
          "name": "stdout",
          "text": [
            "<class 'pandas.core.frame.DataFrame'>\n",
            "RangeIndex: 4226 entries, 0 to 4225\n",
            "Data columns (total 16 columns):\n",
            " #   Column                         Non-Null Count  Dtype  \n",
            "---  ------                         --------------  -----  \n",
            " 0   video_id                       4226 non-null   int64  \n",
            " 1   cvt_per_day                    4226 non-null   float64\n",
            " 2   weighted_categorical_position  4226 non-null   int64  \n",
            " 3   weighted_horizontal_poition    4226 non-null   int64  \n",
            " 4   import_id                      4226 non-null   object \n",
            " 5   release_year                   4226 non-null   int64  \n",
            " 6   genres                         4226 non-null   object \n",
            " 7   imdb_votes                     4226 non-null   int64  \n",
            " 8   budget                         4226 non-null   int64  \n",
            " 9   boxoffice                      4226 non-null   int64  \n",
            " 10  imdb_rating                    4226 non-null   float64\n",
            " 11  duration_in_mins               4226 non-null   float64\n",
            " 12  metacritic_score               4226 non-null   int64  \n",
            " 13  awards                         4226 non-null   object \n",
            " 14  mpaa                           4226 non-null   object \n",
            " 15  star_category                  4226 non-null   float64\n",
            "dtypes: float64(4), int64(8), object(4)\n",
            "memory usage: 528.4+ KB\n",
            "       cvt_per_day  weighted_categorical_position  \\\n",
            "count     4226.000                       4226.000   \n",
            "mean      4218.630                          7.783   \n",
            "std      13036.080                          6.134   \n",
            "min          2.188                          1.000   \n",
            "10%        141.985                          3.000   \n",
            "25%        351.169                          4.000   \n",
            "50%       1193.500                          6.000   \n",
            "75%       3356.789                          9.000   \n",
            "95%      14692.834                         22.000   \n",
            "max     307127.606                         41.000   \n",
            "\n",
            "       weighted_horizontal_poition  imdb_votes        budget     boxoffice  \\\n",
            "count                     4226.000    4226.000      4226.000      4226.000   \n",
            "mean                        28.104    6462.924   2150743.439   2536338.472   \n",
            "std                         11.864   31596.007   7176604.483   8243516.266   \n",
            "min                          1.000       0.000         0.000         0.000   \n",
            "10%                         13.000       8.000         0.000         0.000   \n",
            "25%                         20.000      81.000         0.000         0.000   \n",
            "50%                         28.000     535.000         0.000         0.000   \n",
            "75%                         36.000    3053.000   1500000.000         0.000   \n",
            "95%                         48.000   26199.500  12000000.000   8551228.000   \n",
            "max                         70.000  948630.000 107000000.000 184208848.000   \n",
            "\n",
            "       imdb_rating  duration_in_mins  metacritic_score  star_category  \n",
            "count     4226.000          4226.000          4226.000       4226.000  \n",
            "mean         5.257            89.556            15.974          0.955  \n",
            "std          2.123            21.086            26.205          0.955  \n",
            "min          0.000             4.037             0.000          0.000  \n",
            "10%          2.300            62.391             0.000          0.000  \n",
            "25%          4.300            82.602             0.000          0.000  \n",
            "50%          5.800            90.730             0.000          1.000  \n",
            "75%          6.800            99.500            41.000          1.667  \n",
            "95%          7.800           119.131            65.000          2.597  \n",
            "max         10.000           246.017           100.000          4.000  \n",
            "video_id                        0.000\n",
            "cvt_per_day                     0.000\n",
            "weighted_categorical_position   0.000\n",
            "weighted_horizontal_poition     0.000\n",
            "import_id                       0.000\n",
            "release_year                    0.000\n",
            "genres                          0.000\n",
            "imdb_votes                      0.081\n",
            "budget                          0.581\n",
            "boxoffice                       0.756\n",
            "imdb_rating                     0.081\n",
            "duration_in_mins                0.000\n",
            "metacritic_score                0.713\n",
            "awards                          0.000\n",
            "mpaa                            0.000\n",
            "star_category                   0.437\n",
            "dtype: float64\n"
          ]
        }
      ]
    },
    {
      "cell_type": "code",
      "source": [
        "plt.hist(TV['cvt_per_day'],bins=range(0,15000,30),color='r',label='cvt_per_day',density=True,alpha=0.5)\n",
        "plt.title('Histograms of cvt_per_day before data processing')\n",
        "plt.legend(loc='upper right')\n",
        "plt.xlabel('cvt_per_day')\n",
        "plt.ylabel('density')\n",
        "plt.show()"
      ],
      "metadata": {
        "colab": {
          "base_uri": "https://localhost:8080/",
          "height": 296
        },
        "id": "rT1eboXjo2ol",
        "outputId": "3e46895d-86e8-4d68-f736-2ddc500349bf"
      },
      "execution_count": null,
      "outputs": [
        {
          "output_type": "display_data",
          "data": {
            "image/png": "[encoded data removed]",
            "text/plain": [
              "<Figure size 432x288 with 1 Axes>"
            ]
          },
          "metadata": {
            "needs_background": "light"
          }
        }
      ]
    },
    {
      "cell_type": "code",
      "source": [
        "corr = TV[['cvt_per_day','weighted_categorical_position','weighted_horizontal_poition','release_year','imdb_votes','budget','boxoffice','imdb_rating',\n",
        "           'duration_in_mins','metacritic_score','star_category']].corr()\n",
        "sns.heatmap(corr, cmap=\"YlGnBu\")\n"
      ],
      "metadata": {
        "colab": {
          "base_uri": "https://localhost:8080/",
          "height": 428
        },
        "id": "pWkkHAcstkmZ",
        "outputId": "6d337581-dea2-4d68-b847-15a117796b5d"
      },
      "execution_count": null,
      "outputs": [
        {
          "output_type": "execute_result",
          "data": {
            "text/plain": [
              "<matplotlib.axes._subplots.AxesSubplot at 0x7f8ae2d31110>"
            ]
          },
          "metadata": {},
          "execution_count": 7
        },
        {
          "output_type": "display_data",
          "data": {
            "image/png": "[encoded data removed]",
            "text/plain": [
              "<Figure size 432x288 with 2 Axes>"
            ]
          },
          "metadata": {
            "needs_background": "light"
          }
        }
      ]
    },
    {
      "cell_type": "code",
      "source": [
        "corr"
      ],
      "metadata": {
        "colab": {
          "base_uri": "https://localhost:8080/",
          "height": 458
        },
        "id": "94jEy_Tlxq5D",
        "outputId": "ce08cd89-628a-414c-a318-191dd4fd8e49"
      },
      "execution_count": null,
      "outputs": [
        {
          "output_type": "execute_result",
          "data": {
            "text/html": [
              "\n",
              "  <div id=\"df-6a890d3b-ba77-4d43-b8ee-eb4b130f1055\">\n",
              "    <div class=\"colab-df-container\">\n",
              "      <div>\n",
              "<style scoped>\n",
              "    .dataframe tbody tr th:only-of-type {\n",
              "        vertical-align: middle;\n",
              "    }\n",
              "\n",
              "    .dataframe tbody tr th {\n",
              "        vertical-align: top;\n",
              "    }\n",
              "\n",
              "    .dataframe thead th {\n",
              "        text-align: right;\n",
              "    }\n",
              "</style>\n",
              "<table border=\"1\" class=\"dataframe\">\n",
              "  <thead>\n",
              "    <tr style=\"text-align: right;\">\n",
              "      <th></th>\n",
              "      <th>cvt_per_day</th>\n",
              "      <th>weighted_categorical_position</th>\n",
              "      <th>weighted_horizontal_poition</th>\n",
              "      <th>release_year</th>\n",
              "      <th>imdb_votes</th>\n",
              "      <th>budget</th>\n",
              "      <th>boxoffice</th>\n",
              "      <th>imdb_rating</th>\n",
              "      <th>duration_in_mins</th>\n",
              "      <th>metacritic_score</th>\n",
              "      <th>star_category</th>\n",
              "    </tr>\n",
              "  </thead>\n",
              "  <tbody>\n",
              "    <tr>\n",
              "      <th>cvt_per_day</th>\n",
              "      <td>1.000</td>\n",
              "      <td>-0.148</td>\n",
              "      <td>-0.302</td>\n",
              "      <td>0.046</td>\n",
              "      <td>0.298</td>\n",
              "      <td>0.316</td>\n",
              "      <td>0.312</td>\n",
              "      <td>0.059</td>\n",
              "      <td>0.152</td>\n",
              "      <td>0.249</td>\n",
              "      <td>0.247</td>\n",
              "    </tr>\n",
              "    <tr>\n",
              "      <th>weighted_categorical_position</th>\n",
              "      <td>-0.148</td>\n",
              "      <td>1.000</td>\n",
              "      <td>-0.084</td>\n",
              "      <td>-0.069</td>\n",
              "      <td>-0.064</td>\n",
              "      <td>-0.090</td>\n",
              "      <td>-0.074</td>\n",
              "      <td>-0.116</td>\n",
              "      <td>-0.174</td>\n",
              "      <td>-0.044</td>\n",
              "      <td>-0.123</td>\n",
              "    </tr>\n",
              "    <tr>\n",
              "      <th>weighted_horizontal_poition</th>\n",
              "      <td>-0.302</td>\n",
              "      <td>-0.084</td>\n",
              "      <td>1.000</td>\n",
              "      <td>0.027</td>\n",
              "      <td>-0.221</td>\n",
              "      <td>-0.211</td>\n",
              "      <td>-0.245</td>\n",
              "      <td>-0.162</td>\n",
              "      <td>-0.102</td>\n",
              "      <td>-0.255</td>\n",
              "      <td>-0.168</td>\n",
              "    </tr>\n",
              "    <tr>\n",
              "      <th>release_year</th>\n",
              "      <td>0.046</td>\n",
              "      <td>-0.069</td>\n",
              "      <td>0.027</td>\n",
              "      <td>1.000</td>\n",
              "      <td>-0.083</td>\n",
              "      <td>-0.040</td>\n",
              "      <td>-0.128</td>\n",
              "      <td>-0.199</td>\n",
              "      <td>-0.097</td>\n",
              "      <td>-0.167</td>\n",
              "      <td>-0.198</td>\n",
              "    </tr>\n",
              "    <tr>\n",
              "      <th>imdb_votes</th>\n",
              "      <td>0.298</td>\n",
              "      <td>-0.064</td>\n",
              "      <td>-0.221</td>\n",
              "      <td>-0.083</td>\n",
              "      <td>1.000</td>\n",
              "      <td>0.273</td>\n",
              "      <td>0.531</td>\n",
              "      <td>0.163</td>\n",
              "      <td>0.156</td>\n",
              "      <td>0.322</td>\n",
              "      <td>0.225</td>\n",
              "    </tr>\n",
              "    <tr>\n",
              "      <th>budget</th>\n",
              "      <td>0.316</td>\n",
              "      <td>-0.090</td>\n",
              "      <td>-0.211</td>\n",
              "      <td>-0.040</td>\n",
              "      <td>0.273</td>\n",
              "      <td>1.000</td>\n",
              "      <td>0.505</td>\n",
              "      <td>0.106</td>\n",
              "      <td>0.251</td>\n",
              "      <td>0.315</td>\n",
              "      <td>0.322</td>\n",
              "    </tr>\n",
              "    <tr>\n",
              "      <th>boxoffice</th>\n",
              "      <td>0.312</td>\n",
              "      <td>-0.074</td>\n",
              "      <td>-0.245</td>\n",
              "      <td>-0.128</td>\n",
              "      <td>0.531</td>\n",
              "      <td>0.505</td>\n",
              "      <td>1.000</td>\n",
              "      <td>0.164</td>\n",
              "      <td>0.226</td>\n",
              "      <td>0.465</td>\n",
              "      <td>0.322</td>\n",
              "    </tr>\n",
              "    <tr>\n",
              "      <th>imdb_rating</th>\n",
              "      <td>0.059</td>\n",
              "      <td>-0.116</td>\n",
              "      <td>-0.162</td>\n",
              "      <td>-0.199</td>\n",
              "      <td>0.163</td>\n",
              "      <td>0.106</td>\n",
              "      <td>0.164</td>\n",
              "      <td>1.000</td>\n",
              "      <td>0.344</td>\n",
              "      <td>0.347</td>\n",
              "      <td>0.192</td>\n",
              "    </tr>\n",
              "    <tr>\n",
              "      <th>duration_in_mins</th>\n",
              "      <td>0.152</td>\n",
              "      <td>-0.174</td>\n",
              "      <td>-0.102</td>\n",
              "      <td>-0.097</td>\n",
              "      <td>0.156</td>\n",
              "      <td>0.251</td>\n",
              "      <td>0.226</td>\n",
              "      <td>0.344</td>\n",
              "      <td>1.000</td>\n",
              "      <td>0.327</td>\n",
              "      <td>0.309</td>\n",
              "    </tr>\n",
              "    <tr>\n",
              "      <th>metacritic_score</th>\n",
              "      <td>0.249</td>\n",
              "      <td>-0.044</td>\n",
              "      <td>-0.255</td>\n",
              "      <td>-0.167</td>\n",
              "      <td>0.322</td>\n",
              "      <td>0.315</td>\n",
              "      <td>0.465</td>\n",
              "      <td>0.347</td>\n",
              "      <td>0.327</td>\n",
              "      <td>1.000</td>\n",
              "      <td>0.452</td>\n",
              "    </tr>\n",
              "    <tr>\n",
              "      <th>star_category</th>\n",
              "      <td>0.247</td>\n",
              "      <td>-0.123</td>\n",
              "      <td>-0.168</td>\n",
              "      <td>-0.198</td>\n",
              "      <td>0.225</td>\n",
              "      <td>0.322</td>\n",
              "      <td>0.322</td>\n",
              "      <td>0.192</td>\n",
              "      <td>0.309</td>\n",
              "      <td>0.452</td>\n",
              "      <td>1.000</td>\n",
              "    </tr>\n",
              "  </tbody>\n",
              "</table>\n",
              "</div>\n",
              "      <button class=\"colab-df-convert\" onclick=\"convertToInteractive('df-6a890d3b-ba77-4d43-b8ee-eb4b130f1055')\"\n",
              "              title=\"Convert this dataframe to an interactive table.\"\n",
              "              style=\"display:none;\">\n",
              "        \n",
              "  <svg xmlns=\"http://www.w3.org/2000/svg\" height=\"24px\"viewBox=\"0 0 24 24\"\n",
              "       width=\"24px\">\n",
              "    <path d=\"M0 0h24v24H0V0z\" fill=\"none\"/>\n",
              "    <path d=\"M18.56 5.44l.94 2.06.94-2.06 2.06-.94-2.06-.94-.94-2.06-.94 2.06-2.06.94zm-11 1L8.5 8.5l.94-2.06 2.06-.94-2.06-.94L8.5 2.5l-.94 2.06-2.06.94zm10 10l.94 2.06.94-2.06 2.06-.94-2.06-.94-.94-2.06-.94 2.06-2.06.94z\"/><path d=\"M17.41 7.96l-1.37-1.37c-.4-.4-.92-.59-1.43-.59-.52 0-1.04.2-1.43.59L10.3 9.45l-7.72 7.72c-.78.78-.78 2.05 0 2.83L4 21.41c.39.39.9.59 1.41.59.51 0 1.02-.2 1.41-.59l7.78-7.78 2.81-2.81c.8-.78.8-2.07 0-2.86zM5.41 20L4 18.59l7.72-7.72 1.47 1.35L5.41 20z\"/>\n",
              "  </svg>\n",
              "      </button>\n",
              "      \n",
              "  <style>\n",
              "    .colab-df-container {\n",
              "      display:flex;\n",
              "      flex-wrap:wrap;\n",
              "      gap: 12px;\n",
              "    }\n",
              "\n",
              "    .colab-df-convert {\n",
              "      background-color: #E8F0FE;\n",
              "      border: none;\n",
              "      border-radius: 50%;\n",
              "      cursor: pointer;\n",
              "      display: none;\n",
              "      fill: #1967D2;\n",
              "      height: 32px;\n",
              "      padding: 0 0 0 0;\n",
              "      width: 32px;\n",
              "    }\n",
              "\n",
              "    .colab-df-convert:hover {\n",
              "      background-color: #E2EBFA;\n",
              "      box-shadow: 0px 1px 2px rgba(60, 64, 67, 0.3), 0px 1px 3px 1px rgba(60, 64, 67, 0.15);\n",
              "      fill: #174EA6;\n",
              "    }\n",
              "\n",
              "    [theme=dark] .colab-df-convert {\n",
              "      background-color: #3B4455;\n",
              "      fill: #D2E3FC;\n",
              "    }\n",
              "\n",
              "    [theme=dark] .colab-df-convert:hover {\n",
              "      background-color: #434B5C;\n",
              "      box-shadow: 0px 1px 3px 1px rgba(0, 0, 0, 0.15);\n",
              "      filter: drop-shadow(0px 1px 2px rgba(0, 0, 0, 0.3));\n",
              "      fill: #FFFFFF;\n",
              "    }\n",
              "  </style>\n",
              "\n",
              "      <script>\n",
              "        const buttonEl =\n",
              "          document.querySelector('#df-6a890d3b-ba77-4d43-b8ee-eb4b130f1055 button.colab-df-convert');\n",
              "        buttonEl.style.display =\n",
              "          google.colab.kernel.accessAllowed ? 'block' : 'none';\n",
              "\n",
              "        async function convertToInteractive(key) {\n",
              "          const element = document.querySelector('#df-6a890d3b-ba77-4d43-b8ee-eb4b130f1055');\n",
              "          const dataTable =\n",
              "            await google.colab.kernel.invokeFunction('convertToInteractive',\n",
              "                                                     [key], {});\n",
              "          if (!dataTable) return;\n",
              "\n",
              "          const docLinkHtml = 'Like what you see? Visit the ' +\n",
              "            '<a target=\"_blank\" href=https://colab.research.google.com/notebooks/data_table.ipynb>data table notebook</a>'\n",
              "            + ' to learn more about interactive tables.';\n",
              "          element.innerHTML = '';\n",
              "          dataTable['output_type'] = 'display_data';\n",
              "          await google.colab.output.renderOutput(dataTable, element);\n",
              "          const docLink = document.createElement('div');\n",
              "          docLink.innerHTML = docLinkHtml;\n",
              "          element.appendChild(docLink);\n",
              "        }\n",
              "      </script>\n",
              "    </div>\n",
              "  </div>\n",
              "  "
            ],
            "text/plain": [
              "                               cvt_per_day  weighted_categorical_position  \\\n",
              "cvt_per_day                          1.000                         -0.148   \n",
              "weighted_categorical_position       -0.148                          1.000   \n",
              "weighted_horizontal_poition         -0.302                         -0.084   \n",
              "release_year                         0.046                         -0.069   \n",
              "imdb_votes                           0.298                         -0.064   \n",
              "budget                               0.316                         -0.090   \n",
              "boxoffice                            0.312                         -0.074   \n",
              "imdb_rating                          0.059                         -0.116   \n",
              "duration_in_mins                     0.152                         -0.174   \n",
              "metacritic_score                     0.249                         -0.044   \n",
              "star_category                        0.247                         -0.123   \n",
              "\n",
              "                               weighted_horizontal_poition  release_year  \\\n",
              "cvt_per_day                                         -0.302         0.046   \n",
              "weighted_categorical_position                       -0.084        -0.069   \n",
              "weighted_horizontal_poition                          1.000         0.027   \n",
              "release_year                                         0.027         1.000   \n",
              "imdb_votes                                          -0.221        -0.083   \n",
              "budget                                              -0.211        -0.040   \n",
              "boxoffice                                           -0.245        -0.128   \n",
              "imdb_rating                                         -0.162        -0.199   \n",
              "duration_in_mins                                    -0.102        -0.097   \n",
              "metacritic_score                                    -0.255        -0.167   \n",
              "star_category                                       -0.168        -0.198   \n",
              "\n",
              "                               imdb_votes  budget  boxoffice  imdb_rating  \\\n",
              "cvt_per_day                         0.298   0.316      0.312        0.059   \n",
              "weighted_categorical_position      -0.064  -0.090     -0.074       -0.116   \n",
              "weighted_horizontal_poition        -0.221  -0.211     -0.245       -0.162   \n",
              "release_year                       -0.083  -0.040     -0.128       -0.199   \n",
              "imdb_votes                          1.000   0.273      0.531        0.163   \n",
              "budget                              0.273   1.000      0.505        0.106   \n",
              "boxoffice                           0.531   0.505      1.000        0.164   \n",
              "imdb_rating                         0.163   0.106      0.164        1.000   \n",
              "duration_in_mins                    0.156   0.251      0.226        0.344   \n",
              "metacritic_score                    0.322   0.315      0.465        0.347   \n",
              "star_category                       0.225   0.322      0.322        0.192   \n",
              "\n",
              "                               duration_in_mins  metacritic_score  \\\n",
              "cvt_per_day                               0.152             0.249   \n",
              "weighted_categorical_position            -0.174            -0.044   \n",
              "weighted_horizontal_poition              -0.102            -0.255   \n",
              "release_year                             -0.097            -0.167   \n",
              "imdb_votes                                0.156             0.322   \n",
              "budget                                    0.251             0.315   \n",
              "boxoffice                                 0.226             0.465   \n",
              "imdb_rating                               0.344             0.347   \n",
              "duration_in_mins                          1.000             0.327   \n",
              "metacritic_score                          0.327             1.000   \n",
              "star_category                             0.309             0.452   \n",
              "\n",
              "                               star_category  \n",
              "cvt_per_day                            0.247  \n",
              "weighted_categorical_position         -0.123  \n",
              "weighted_horizontal_poition           -0.168  \n",
              "release_year                          -0.198  \n",
              "imdb_votes                             0.225  \n",
              "budget                                 0.322  \n",
              "boxoffice                              0.322  \n",
              "imdb_rating                            0.192  \n",
              "duration_in_mins                       0.309  \n",
              "metacritic_score                       0.452  \n",
              "star_category                          1.000  "
            ]
          },
          "metadata": {},
          "execution_count": 8
        }
      ]
    },
    {
      "cell_type": "code",
      "source": [
        "sns.stripplot(x='import_id', y='cvt_per_day', data=TV, jitter=True)\n",
        "plt.show()\n",
        "print(TV['import_id'].value_counts())\n",
        "\n",
        "sns.stripplot(x='mpaa',y='cvt_per_day',data=TV,jitter=True)\n",
        "plt.show()\n",
        "print(TV['mpaa'].value_counts())\n",
        "\n",
        "sns.stripplot(x='awards',y='cvt_per_day',data=TV,jitter=True)\n",
        "plt.show()\n",
        "print(TV['awards'].value_counts())\n"
      ],
      "metadata": {
        "colab": {
          "base_uri": "https://localhost:8080/",
          "height": 1000
        },
        "id": "PsN7aofsxurL",
        "outputId": "cc090ca4-967f-471a-83fe-2cb3c6a7ab83"
      },
      "execution_count": null,
      "outputs": [
        {
          "output_type": "display_data",
          "data": {
            "image/png": "[encoded data removed]",
            "text/plain": [
              "<Figure size 432x288 with 1 Axes>"
            ]
          },
          "metadata": {
            "needs_background": "light"
          }
        },
        {
          "output_type": "stream",
          "name": "stdout",
          "text": [
            "other        2963\n",
            "lionsgate     677\n",
            "mgm           445\n",
            "paramount     141\n",
            "Name: import_id, dtype: int64\n"
          ]
        },
        {
          "output_type": "display_data",
          "data": {
            "image/png": "[encoded data removed]",
            "text/plain": [
              "<Figure size 432x288 with 1 Axes>"
            ]
          },
          "metadata": {
            "needs_background": "light"
          }
        },
        {
          "output_type": "stream",
          "name": "stdout",
          "text": [
            "NotRated    2158\n",
            "R           1158\n",
            "PG-13        426\n",
            "PG           353\n",
            "G            125\n",
            "NC-17          6\n",
            "Name: mpaa, dtype: int64\n"
          ]
        },
        {
          "output_type": "display_data",
          "data": {
            "image/png": "[encoded data removed]",
            "text/plain": [
              "<Figure size 432x288 with 1 Axes>"
            ]
          },
          "metadata": {
            "needs_background": "light"
          }
        },
        {
          "output_type": "stream",
          "name": "stdout",
          "text": [
            "no award        2569\n",
            "other award     1453\n",
            "Oscar            141\n",
            "Golden Globe      44\n",
            "BAFTA             19\n",
            "Name: awards, dtype: int64\n"
          ]
        }
      ]
    },
    {
      "cell_type": "code",
      "source": [
        "gen_split = TV['genres'].str.get_dummies(sep=',').sum()\n",
        "print(gen_split)\n",
        "\n",
        "gen_split.sort_values(ascending=False).plot.bar()"
      ],
      "metadata": {
        "colab": {
          "base_uri": "https://localhost:8080/",
          "height": 863
        },
        "id": "ut0iR1us0oJm",
        "outputId": "a34e8a98-2978-41e7-f813-2537e05bbafc"
      },
      "execution_count": null,
      "outputs": [
        {
          "output_type": "stream",
          "name": "stdout",
          "text": [
            "Action                    739\n",
            "Adult                       3\n",
            "Adventure                 363\n",
            "Animation                 129\n",
            "Anime                      11\n",
            "Comedy                   1184\n",
            "Crime                     437\n",
            "Documentary               671\n",
            "Drama                    1677\n",
            "Fantasy                   243\n",
            "Foreign/International      64\n",
            "Holiday                     1\n",
            "Horror                    762\n",
            "Independent               393\n",
            "Kids & Family             280\n",
            "LGBT                        2\n",
            "Lifestyle                   7\n",
            "Music                     171\n",
            "Musicals                   68\n",
            "Mystery                   375\n",
            "Reality                     9\n",
            "Romance                   591\n",
            "Sci-Fi                    363\n",
            "Sport                      77\n",
            "Thriller                  879\n",
            "War                       102\n",
            "Western                   102\n",
            "dtype: int64\n"
          ]
        },
        {
          "output_type": "execute_result",
          "data": {
            "text/plain": [
              "<matplotlib.axes._subplots.AxesSubplot at 0x7f8ae2d29190>"
            ]
          },
          "metadata": {},
          "execution_count": 10
        },
        {
          "output_type": "display_data",
          "data": {
            "image/png": "[encoded data removed]",
            "text/plain": [
              "<Figure size 432x288 with 1 Axes>"
            ]
          },
          "metadata": {
            "needs_background": "light"
          }
        }
      ]
    },
    {
      "cell_type": "code",
      "source": [
        "plt.hist(TV['release_year'].values, bins = range(1910,2017,1), alpha=0.5, color='r', label = 'release_year')\n",
        "plt.legend(loc='upper left')\n",
        "plt.title('Histogram of release_year before data processing')\n",
        "plt.xlabel('release_year')\n",
        "plt.ylabel('count')\n",
        "plt.show()"
      ],
      "metadata": {
        "colab": {
          "base_uri": "https://localhost:8080/",
          "height": 296
        },
        "id": "Ad9rJkwi3X0h",
        "outputId": "94547f00-79ce-45a5-f609-42f4e8a0616a"
      },
      "execution_count": null,
      "outputs": [
        {
          "output_type": "display_data",
          "data": {
            "image/png": "[encoded data removed]",
            "text/plain": [
              "<Figure size 432x288 with 1 Axes>"
            ]
          },
          "metadata": {
            "needs_background": "light"
          }
        }
      ]
    },
    {
      "cell_type": "code",
      "source": [
        "d_import_id = pd.get_dummies(TV['import_id']).astype(np.int64)\n",
        "d_mpaa = pd.get_dummies(TV['mpaa']).astype(np.int64)\n",
        "d_awards = pd.get_dummies(TV['awards']).astype(np.int64)"
      ],
      "metadata": {
        "id": "4julWLgm4jjM"
      },
      "execution_count": null,
      "outputs": []
    },
    {
      "cell_type": "code",
      "source": [
        "d_genres=TV['genres'].str.get_dummies(sep=',').astype(np.int64)\n",
        "d_genres['Misc_genres']=d_genres['Anime']|d_genres['Reality']|d_genres['Lifestyle']|d_genres['Adult']|d_genres['LGBT']|d_genres['Holiday']\n",
        "d_genres.drop(['Anime', 'Reality','Lifestyle', 'Adult','LGBT','Holiday'], inplace=True, axis=1)"
      ],
      "metadata": {
        "id": "gdaNWFEX6Zdy"
      },
      "execution_count": null,
      "outputs": []
    },
    {
      "cell_type": "code",
      "source": [
        "TV['release_year'].quantile([0.1,0.2,0.3,0.4,0.5,0.6,0.7,0.8,0.9])"
      ],
      "metadata": {
        "colab": {
          "base_uri": "https://localhost:8080/"
        },
        "id": "sdY8EuXC7HkV",
        "outputId": "5ee3d16a-ba84-49a2-db4b-2286208a9789"
      },
      "execution_count": null,
      "outputs": [
        {
          "output_type": "execute_result",
          "data": {
            "text/plain": [
              "0.100   1974.000\n",
              "0.200   1991.000\n",
              "0.300   2001.000\n",
              "0.400   2006.000\n",
              "0.500   2008.000\n",
              "0.600   2010.000\n",
              "0.700   2012.000\n",
              "0.800   2013.000\n",
              "0.900   2014.000\n",
              "Name: release_year, dtype: float64"
            ]
          },
          "metadata": {},
          "execution_count": 14
        }
      ]
    },
    {
      "cell_type": "code",
      "source": [
        "bin_year = [1916,1974,1991,2001,2006,2008,2010,2012,2013,2014,2017]\n",
        "year_range = ['1916-1974','1974-1991','1991-2001','2001-2006','2006-2008','2008-2010','2010-2012','2012-2013','2013-2014','2014-2017']\n",
        "year_bin = pd.cut(TV['release_year'], bin_year, labels=year_range)\n",
        "d_year = pd.get_dummies(year_bin).astype(np.int64)"
      ],
      "metadata": {
        "id": "Ed9wzO8P-B2x"
      },
      "execution_count": null,
      "outputs": []
    },
    {
      "cell_type": "code",
      "source": [
        "temp_tv=TV.drop(['import_id','mpaa','awards','genres','release_year'], axis=1)"
      ],
      "metadata": {
        "id": "O9fdbHNl_OZL"
      },
      "execution_count": null,
      "outputs": []
    },
    {
      "cell_type": "code",
      "source": [
        "newTV = pd.concat([temp_tv, d_import_id,d_awards,d_genres,d_mpaa,d_year], axis=1)\n",
        "print(newTV.head())"
      ],
      "metadata": {
        "colab": {
          "base_uri": "https://localhost:8080/"
        },
        "id": "I_tegASlE_3n",
        "outputId": "ed412473-a76a-4abb-b493-26babc8ac3f3"
      },
      "execution_count": null,
      "outputs": [
        {
          "output_type": "stream",
          "name": "stdout",
          "text": [
            "   video_id  cvt_per_day  weighted_categorical_position  \\\n",
            "0    385504   307127.606                              1   \n",
            "1    300175   270338.426                              1   \n",
            "2    361899   256165.867                              1   \n",
            "3    308314   196622.721                              3   \n",
            "4    307201   159841.652                              1   \n",
            "\n",
            "   weighted_horizontal_poition  imdb_votes    budget  boxoffice  imdb_rating  \\\n",
            "0                            3       69614  15000000   42930462        6.500   \n",
            "1                            3       46705  15000000    3301046        6.500   \n",
            "2                            3      197596  26000000   37397291        7.300   \n",
            "3                            4      356339  15000000   15700000        7.600   \n",
            "4                            3       46720  27220000    8551228        6.400   \n",
            "\n",
            "   duration_in_mins  metacritic_score  star_category  lionsgate  mgm  other  \\\n",
            "0           112.301                51          1.710          1    0      0   \n",
            "1            94.983                41          3.250          1    0      0   \n",
            "2           115.764                58          2.647          0    0      1   \n",
            "3           130.704                94          1.667          1    0      0   \n",
            "4           105.546                37          3.067          1    0      0   \n",
            "\n",
            "   paramount  BAFTA  Golden Globe  Oscar  no award  other award  Action  \\\n",
            "0          0      0             0      0         0            1       1   \n",
            "1          0      0             0      0         1            0       0   \n",
            "2          0      0             0      0         0            1       0   \n",
            "3          0      0             0      1         0            0       1   \n",
            "4          0      0             0      0         0            1       0   \n",
            "\n",
            "   Adventure  Animation  Comedy  Crime  Documentary  Drama  Fantasy  \\\n",
            "0          0          0       0      0            0      1        0   \n",
            "1          0          0       1      1            0      0        0   \n",
            "2          0          0       0      1            0      1        0   \n",
            "3          0          0       0      0            1      1        0   \n",
            "4          0          0       0      1            1      0        0   \n",
            "\n",
            "   Foreign/International  Horror  Independent  Kids & Family  Music  Musicals  \\\n",
            "0                      0       0            0              0      0         0   \n",
            "1                      0       0            0              0      0         0   \n",
            "2                      0       0            0              0      0         0   \n",
            "3                      0       0            0              0      0         0   \n",
            "4                      0       0            0              0      0         0   \n",
            "\n",
            "   Mystery  Romance  Sci-Fi  Sport  Thriller  War  Western  Misc_genres  G  \\\n",
            "0        0        0       0      0         1    0        0            0  0   \n",
            "1        0        0       0      0         1    0        0            0  0   \n",
            "2        0        0       0      0         0    0        0            0  0   \n",
            "3        1        0       0      0         1    1        0            0  0   \n",
            "4        1        0       0      0         1    0        0            0  0   \n",
            "\n",
            "   NC-17  NotRated  PG  PG-13  R  1916-1974  1974-1991  1991-2001  2001-2006  \\\n",
            "0      0         0   0      1  0          0          0          0          0   \n",
            "1      0         0   0      0  1          0          0          0          0   \n",
            "2      0         0   0      0  1          0          0          0          0   \n",
            "3      0         0   0      0  1          0          0          0          0   \n",
            "4      0         0   0      0  1          0          0          0          0   \n",
            "\n",
            "   2006-2008  2008-2010  2010-2012  2012-2013  2013-2014  2014-2017  \n",
            "0          0          0          0          1          0          0  \n",
            "1          0          0          0          1          0          0  \n",
            "2          0          0          1          0          0          0  \n",
            "3          1          0          0          0          0          0  \n",
            "4          0          0          0          1          0          0  \n"
          ]
        }
      ]
    },
    {
      "cell_type": "code",
      "source": [
        "newTV[['budget','boxoffice','metacritic_score','star_category','imdb_votes','imdb_rating']] = newTV[['budget','boxoffice','metacritic_score','star_category','imdb_votes','imdb_rating']].replace(0,np.nan)"
      ],
      "metadata": {
        "id": "2A7TD9jwFqt4"
      },
      "execution_count": null,
      "outputs": []
    },
    {
      "cell_type": "code",
      "source": [
        "print(newTV.info())"
      ],
      "metadata": {
        "colab": {
          "base_uri": "https://localhost:8080/"
        },
        "id": "-FHXZ9cKHNV2",
        "outputId": "d804f506-80b2-4ded-eaad-97d9f8911fbe"
      },
      "execution_count": null,
      "outputs": [
        {
          "output_type": "stream",
          "name": "stdout",
          "text": [
            "<class 'pandas.core.frame.DataFrame'>\n",
            "RangeIndex: 4226 entries, 0 to 4225\n",
            "Data columns (total 58 columns):\n",
            " #   Column                         Non-Null Count  Dtype  \n",
            "---  ------                         --------------  -----  \n",
            " 0   video_id                       4226 non-null   int64  \n",
            " 1   cvt_per_day                    4226 non-null   float64\n",
            " 2   weighted_categorical_position  4226 non-null   int64  \n",
            " 3   weighted_horizontal_poition    4226 non-null   int64  \n",
            " 4   imdb_votes                     3882 non-null   float64\n",
            " 5   budget                         1772 non-null   float64\n",
            " 6   boxoffice                      1032 non-null   float64\n",
            " 7   imdb_rating                    3882 non-null   float64\n",
            " 8   duration_in_mins               4226 non-null   float64\n",
            " 9   metacritic_score               1214 non-null   float64\n",
            " 10  star_category                  2380 non-null   float64\n",
            " 11  lionsgate                      4226 non-null   int64  \n",
            " 12  mgm                            4226 non-null   int64  \n",
            " 13  other                          4226 non-null   int64  \n",
            " 14  paramount                      4226 non-null   int64  \n",
            " 15  BAFTA                          4226 non-null   int64  \n",
            " 16  Golden Globe                   4226 non-null   int64  \n",
            " 17  Oscar                          4226 non-null   int64  \n",
            " 18  no award                       4226 non-null   int64  \n",
            " 19  other award                    4226 non-null   int64  \n",
            " 20  Action                         4226 non-null   int64  \n",
            " 21  Adventure                      4226 non-null   int64  \n",
            " 22  Animation                      4226 non-null   int64  \n",
            " 23  Comedy                         4226 non-null   int64  \n",
            " 24  Crime                          4226 non-null   int64  \n",
            " 25  Documentary                    4226 non-null   int64  \n",
            " 26  Drama                          4226 non-null   int64  \n",
            " 27  Fantasy                        4226 non-null   int64  \n",
            " 28  Foreign/International          4226 non-null   int64  \n",
            " 29  Horror                         4226 non-null   int64  \n",
            " 30  Independent                    4226 non-null   int64  \n",
            " 31  Kids & Family                  4226 non-null   int64  \n",
            " 32  Music                          4226 non-null   int64  \n",
            " 33  Musicals                       4226 non-null   int64  \n",
            " 34  Mystery                        4226 non-null   int64  \n",
            " 35  Romance                        4226 non-null   int64  \n",
            " 36  Sci-Fi                         4226 non-null   int64  \n",
            " 37  Sport                          4226 non-null   int64  \n",
            " 38  Thriller                       4226 non-null   int64  \n",
            " 39  War                            4226 non-null   int64  \n",
            " 40  Western                        4226 non-null   int64  \n",
            " 41  Misc_genres                    4226 non-null   int64  \n",
            " 42  G                              4226 non-null   int64  \n",
            " 43  NC-17                          4226 non-null   int64  \n",
            " 44  NotRated                       4226 non-null   int64  \n",
            " 45  PG                             4226 non-null   int64  \n",
            " 46  PG-13                          4226 non-null   int64  \n",
            " 47  R                              4226 non-null   int64  \n",
            " 48  1916-1974                      4226 non-null   int64  \n",
            " 49  1974-1991                      4226 non-null   int64  \n",
            " 50  1991-2001                      4226 non-null   int64  \n",
            " 51  2001-2006                      4226 non-null   int64  \n",
            " 52  2006-2008                      4226 non-null   int64  \n",
            " 53  2008-2010                      4226 non-null   int64  \n",
            " 54  2010-2012                      4226 non-null   int64  \n",
            " 55  2012-2013                      4226 non-null   int64  \n",
            " 56  2013-2014                      4226 non-null   int64  \n",
            " 57  2014-2017                      4226 non-null   int64  \n",
            "dtypes: float64(8), int64(50)\n",
            "memory usage: 1.9 MB\n",
            "None\n"
          ]
        }
      ]
    },
    {
      "cell_type": "code",
      "source": [
        "newTV1 = newTV.copy()\n",
        "newTV1['boxoffice']=newTV1['boxoffice'].fillna(newTV1['boxoffice'].mean())\n",
        "newTV1['metacritic_score']=newTV1['metacritic_score'].fillna(newTV1['metacritic_score'].mean())\n",
        "newTV1['star_category']=newTV1['star_category'].fillna(newTV1['star_category'].mean())\n",
        "newTV1['imdb_votes']=newTV1['imdb_votes'].fillna(newTV1['imdb_votes'].mean())\n",
        "newTV1['imdb_rating']=newTV1['imdb_rating'].fillna(newTV1['imdb_rating'].mean())\n",
        "newTV1['budget']=newTV1['budget'].fillna(newTV1['budget'].mean())\n",
        "print(newTV1.info())"
      ],
      "metadata": {
        "colab": {
          "base_uri": "https://localhost:8080/"
        },
        "id": "7vgYSI_6H9mK",
        "outputId": "f032d5e6-c179-4c12-c4c2-c772d1405a21"
      },
      "execution_count": null,
      "outputs": [
        {
          "output_type": "stream",
          "name": "stdout",
          "text": [
            "<class 'pandas.core.frame.DataFrame'>\n",
            "RangeIndex: 4226 entries, 0 to 4225\n",
            "Data columns (total 58 columns):\n",
            " #   Column                         Non-Null Count  Dtype  \n",
            "---  ------                         --------------  -----  \n",
            " 0   video_id                       4226 non-null   int64  \n",
            " 1   cvt_per_day                    4226 non-null   float64\n",
            " 2   weighted_categorical_position  4226 non-null   int64  \n",
            " 3   weighted_horizontal_poition    4226 non-null   int64  \n",
            " 4   imdb_votes                     4226 non-null   float64\n",
            " 5   budget                         4226 non-null   float64\n",
            " 6   boxoffice                      4226 non-null   float64\n",
            " 7   imdb_rating                    4226 non-null   float64\n",
            " 8   duration_in_mins               4226 non-null   float64\n",
            " 9   metacritic_score               4226 non-null   float64\n",
            " 10  star_category                  4226 non-null   float64\n",
            " 11  lionsgate                      4226 non-null   int64  \n",
            " 12  mgm                            4226 non-null   int64  \n",
            " 13  other                          4226 non-null   int64  \n",
            " 14  paramount                      4226 non-null   int64  \n",
            " 15  BAFTA                          4226 non-null   int64  \n",
            " 16  Golden Globe                   4226 non-null   int64  \n",
            " 17  Oscar                          4226 non-null   int64  \n",
            " 18  no award                       4226 non-null   int64  \n",
            " 19  other award                    4226 non-null   int64  \n",
            " 20  Action                         4226 non-null   int64  \n",
            " 21  Adventure                      4226 non-null   int64  \n",
            " 22  Animation                      4226 non-null   int64  \n",
            " 23  Comedy                         4226 non-null   int64  \n",
            " 24  Crime                          4226 non-null   int64  \n",
            " 25  Documentary                    4226 non-null   int64  \n",
            " 26  Drama                          4226 non-null   int64  \n",
            " 27  Fantasy                        4226 non-null   int64  \n",
            " 28  Foreign/International          4226 non-null   int64  \n",
            " 29  Horror                         4226 non-null   int64  \n",
            " 30  Independent                    4226 non-null   int64  \n",
            " 31  Kids & Family                  4226 non-null   int64  \n",
            " 32  Music                          4226 non-null   int64  \n",
            " 33  Musicals                       4226 non-null   int64  \n",
            " 34  Mystery                        4226 non-null   int64  \n",
            " 35  Romance                        4226 non-null   int64  \n",
            " 36  Sci-Fi                         4226 non-null   int64  \n",
            " 37  Sport                          4226 non-null   int64  \n",
            " 38  Thriller                       4226 non-null   int64  \n",
            " 39  War                            4226 non-null   int64  \n",
            " 40  Western                        4226 non-null   int64  \n",
            " 41  Misc_genres                    4226 non-null   int64  \n",
            " 42  G                              4226 non-null   int64  \n",
            " 43  NC-17                          4226 non-null   int64  \n",
            " 44  NotRated                       4226 non-null   int64  \n",
            " 45  PG                             4226 non-null   int64  \n",
            " 46  PG-13                          4226 non-null   int64  \n",
            " 47  R                              4226 non-null   int64  \n",
            " 48  1916-1974                      4226 non-null   int64  \n",
            " 49  1974-1991                      4226 non-null   int64  \n",
            " 50  1991-2001                      4226 non-null   int64  \n",
            " 51  2001-2006                      4226 non-null   int64  \n",
            " 52  2006-2008                      4226 non-null   int64  \n",
            " 53  2008-2010                      4226 non-null   int64  \n",
            " 54  2010-2012                      4226 non-null   int64  \n",
            " 55  2012-2013                      4226 non-null   int64  \n",
            " 56  2013-2014                      4226 non-null   int64  \n",
            " 57  2014-2017                      4226 non-null   int64  \n",
            "dtypes: float64(8), int64(50)\n",
            "memory usage: 1.9 MB\n",
            "None\n"
          ]
        }
      ]
    },
    {
      "cell_type": "code",
      "source": [
        "scale_lst = ['weighted_categorical_position', 'weighted_horizontal_poition', 'budget','boxoffice', 'imdb_votes','imdb_rating','duration_in_mins', 'metacritic_score','star_category']\n",
        "newTV_sc = newTV1.copy()\n",
        "\n",
        "sc_scale = preprocessing.StandardScaler().fit(newTV_sc[scale_lst])\n",
        "newTV_sc[scale_lst] = sc_scale.transform(newTV_sc[scale_lst])\n",
        "newTV_sc.head()"
      ],
      "metadata": {
        "colab": {
          "base_uri": "https://localhost:8080/",
          "height": 288
        },
        "id": "-H_-53oWQaB5",
        "outputId": "3dd38478-9788-4b4d-e4ab-1f3906eca507"
      },
      "execution_count": null,
      "outputs": [
        {
          "output_type": "execute_result",
          "data": {
            "text/html": [
              "\n",
              "  <div id=\"df-024a81e1-0c5b-443f-8910-485cfe93861d\">\n",
              "    <div class=\"colab-df-container\">\n",
              "      <div>\n",
              "<style scoped>\n",
              "    .dataframe tbody tr th:only-of-type {\n",
              "        vertical-align: middle;\n",
              "    }\n",
              "\n",
              "    .dataframe tbody tr th {\n",
              "        vertical-align: top;\n",
              "    }\n",
              "\n",
              "    .dataframe thead th {\n",
              "        text-align: right;\n",
              "    }\n",
              "</style>\n",
              "<table border=\"1\" class=\"dataframe\">\n",
              "  <thead>\n",
              "    <tr style=\"text-align: right;\">\n",
              "      <th></th>\n",
              "      <th>video_id</th>\n",
              "      <th>cvt_per_day</th>\n",
              "      <th>weighted_categorical_position</th>\n",
              "      <th>weighted_horizontal_poition</th>\n",
              "      <th>imdb_votes</th>\n",
              "      <th>budget</th>\n",
              "      <th>boxoffice</th>\n",
              "      <th>imdb_rating</th>\n",
              "      <th>duration_in_mins</th>\n",
              "      <th>metacritic_score</th>\n",
              "      <th>star_category</th>\n",
              "      <th>lionsgate</th>\n",
              "      <th>mgm</th>\n",
              "      <th>other</th>\n",
              "      <th>paramount</th>\n",
              "      <th>BAFTA</th>\n",
              "      <th>Golden Globe</th>\n",
              "      <th>Oscar</th>\n",
              "      <th>no award</th>\n",
              "      <th>other award</th>\n",
              "      <th>Action</th>\n",
              "      <th>Adventure</th>\n",
              "      <th>Animation</th>\n",
              "      <th>Comedy</th>\n",
              "      <th>Crime</th>\n",
              "      <th>Documentary</th>\n",
              "      <th>Drama</th>\n",
              "      <th>Fantasy</th>\n",
              "      <th>Foreign/International</th>\n",
              "      <th>Horror</th>\n",
              "      <th>Independent</th>\n",
              "      <th>Kids &amp; Family</th>\n",
              "      <th>Music</th>\n",
              "      <th>Musicals</th>\n",
              "      <th>Mystery</th>\n",
              "      <th>Romance</th>\n",
              "      <th>Sci-Fi</th>\n",
              "      <th>Sport</th>\n",
              "      <th>Thriller</th>\n",
              "      <th>War</th>\n",
              "      <th>Western</th>\n",
              "      <th>Misc_genres</th>\n",
              "      <th>G</th>\n",
              "      <th>NC-17</th>\n",
              "      <th>NotRated</th>\n",
              "      <th>PG</th>\n",
              "      <th>PG-13</th>\n",
              "      <th>R</th>\n",
              "      <th>1916-1974</th>\n",
              "      <th>1974-1991</th>\n",
              "      <th>1991-2001</th>\n",
              "      <th>2001-2006</th>\n",
              "      <th>2006-2008</th>\n",
              "      <th>2008-2010</th>\n",
              "      <th>2010-2012</th>\n",
              "      <th>2012-2013</th>\n",
              "      <th>2013-2014</th>\n",
              "      <th>2014-2017</th>\n",
              "    </tr>\n",
              "  </thead>\n",
              "  <tbody>\n",
              "    <tr>\n",
              "      <th>0</th>\n",
              "      <td>385504</td>\n",
              "      <td>307127.606</td>\n",
              "      <td>-1.106</td>\n",
              "      <td>-2.116</td>\n",
              "      <td>1.984</td>\n",
              "      <td>1.470</td>\n",
              "      <td>4.696</td>\n",
              "      <td>0.542</td>\n",
              "      <td>1.079</td>\n",
              "      <td>-0.630</td>\n",
              "      <td>0.033</td>\n",
              "      <td>1</td>\n",
              "      <td>0</td>\n",
              "      <td>0</td>\n",
              "      <td>0</td>\n",
              "      <td>0</td>\n",
              "      <td>0</td>\n",
              "      <td>0</td>\n",
              "      <td>0</td>\n",
              "      <td>1</td>\n",
              "      <td>1</td>\n",
              "      <td>0</td>\n",
              "      <td>0</td>\n",
              "      <td>0</td>\n",
              "      <td>0</td>\n",
              "      <td>0</td>\n",
              "      <td>1</td>\n",
              "      <td>0</td>\n",
              "      <td>0</td>\n",
              "      <td>0</td>\n",
              "      <td>0</td>\n",
              "      <td>0</td>\n",
              "      <td>0</td>\n",
              "      <td>0</td>\n",
              "      <td>0</td>\n",
              "      <td>0</td>\n",
              "      <td>0</td>\n",
              "      <td>0</td>\n",
              "      <td>1</td>\n",
              "      <td>0</td>\n",
              "      <td>0</td>\n",
              "      <td>0</td>\n",
              "      <td>0</td>\n",
              "      <td>0</td>\n",
              "      <td>0</td>\n",
              "      <td>0</td>\n",
              "      <td>1</td>\n",
              "      <td>0</td>\n",
              "      <td>0</td>\n",
              "      <td>0</td>\n",
              "      <td>0</td>\n",
              "      <td>0</td>\n",
              "      <td>0</td>\n",
              "      <td>0</td>\n",
              "      <td>0</td>\n",
              "      <td>1</td>\n",
              "      <td>0</td>\n",
              "      <td>0</td>\n",
              "    </tr>\n",
              "    <tr>\n",
              "      <th>1</th>\n",
              "      <td>300175</td>\n",
              "      <td>270338.426</td>\n",
              "      <td>-1.106</td>\n",
              "      <td>-2.116</td>\n",
              "      <td>1.258</td>\n",
              "      <td>1.470</td>\n",
              "      <td>-1.022</td>\n",
              "      <td>0.542</td>\n",
              "      <td>0.257</td>\n",
              "      <td>-1.997</td>\n",
              "      <td>3.434</td>\n",
              "      <td>1</td>\n",
              "      <td>0</td>\n",
              "      <td>0</td>\n",
              "      <td>0</td>\n",
              "      <td>0</td>\n",
              "      <td>0</td>\n",
              "      <td>0</td>\n",
              "      <td>1</td>\n",
              "      <td>0</td>\n",
              "      <td>0</td>\n",
              "      <td>0</td>\n",
              "      <td>0</td>\n",
              "      <td>1</td>\n",
              "      <td>1</td>\n",
              "      <td>0</td>\n",
              "      <td>0</td>\n",
              "      <td>0</td>\n",
              "      <td>0</td>\n",
              "      <td>0</td>\n",
              "      <td>0</td>\n",
              "      <td>0</td>\n",
              "      <td>0</td>\n",
              "      <td>0</td>\n",
              "      <td>0</td>\n",
              "      <td>0</td>\n",
              "      <td>0</td>\n",
              "      <td>0</td>\n",
              "      <td>1</td>\n",
              "      <td>0</td>\n",
              "      <td>0</td>\n",
              "      <td>0</td>\n",
              "      <td>0</td>\n",
              "      <td>0</td>\n",
              "      <td>0</td>\n",
              "      <td>0</td>\n",
              "      <td>0</td>\n",
              "      <td>1</td>\n",
              "      <td>0</td>\n",
              "      <td>0</td>\n",
              "      <td>0</td>\n",
              "      <td>0</td>\n",
              "      <td>0</td>\n",
              "      <td>0</td>\n",
              "      <td>0</td>\n",
              "      <td>1</td>\n",
              "      <td>0</td>\n",
              "      <td>0</td>\n",
              "    </tr>\n",
              "    <tr>\n",
              "      <th>2</th>\n",
              "      <td>361899</td>\n",
              "      <td>256165.867</td>\n",
              "      <td>-1.106</td>\n",
              "      <td>-2.116</td>\n",
              "      <td>6.043</td>\n",
              "      <td>3.108</td>\n",
              "      <td>3.898</td>\n",
              "      <td>1.100</td>\n",
              "      <td>1.243</td>\n",
              "      <td>0.327</td>\n",
              "      <td>2.102</td>\n",
              "      <td>0</td>\n",
              "      <td>0</td>\n",
              "      <td>1</td>\n",
              "      <td>0</td>\n",
              "      <td>0</td>\n",
              "      <td>0</td>\n",
              "      <td>0</td>\n",
              "      <td>0</td>\n",
              "      <td>1</td>\n",
              "      <td>0</td>\n",
              "      <td>0</td>\n",
              "      <td>0</td>\n",
              "      <td>0</td>\n",
              "      <td>1</td>\n",
              "      <td>0</td>\n",
              "      <td>1</td>\n",
              "      <td>0</td>\n",
              "      <td>0</td>\n",
              "      <td>0</td>\n",
              "      <td>0</td>\n",
              "      <td>0</td>\n",
              "      <td>0</td>\n",
              "      <td>0</td>\n",
              "      <td>0</td>\n",
              "      <td>0</td>\n",
              "      <td>0</td>\n",
              "      <td>0</td>\n",
              "      <td>0</td>\n",
              "      <td>0</td>\n",
              "      <td>0</td>\n",
              "      <td>0</td>\n",
              "      <td>0</td>\n",
              "      <td>0</td>\n",
              "      <td>0</td>\n",
              "      <td>0</td>\n",
              "      <td>0</td>\n",
              "      <td>1</td>\n",
              "      <td>0</td>\n",
              "      <td>0</td>\n",
              "      <td>0</td>\n",
              "      <td>0</td>\n",
              "      <td>0</td>\n",
              "      <td>0</td>\n",
              "      <td>1</td>\n",
              "      <td>0</td>\n",
              "      <td>0</td>\n",
              "      <td>0</td>\n",
              "    </tr>\n",
              "    <tr>\n",
              "      <th>3</th>\n",
              "      <td>308314</td>\n",
              "      <td>196622.721</td>\n",
              "      <td>-0.780</td>\n",
              "      <td>-2.032</td>\n",
              "      <td>11.077</td>\n",
              "      <td>1.470</td>\n",
              "      <td>0.767</td>\n",
              "      <td>1.309</td>\n",
              "      <td>1.952</td>\n",
              "      <td>5.250</td>\n",
              "      <td>-0.063</td>\n",
              "      <td>1</td>\n",
              "      <td>0</td>\n",
              "      <td>0</td>\n",
              "      <td>0</td>\n",
              "      <td>0</td>\n",
              "      <td>0</td>\n",
              "      <td>1</td>\n",
              "      <td>0</td>\n",
              "      <td>0</td>\n",
              "      <td>1</td>\n",
              "      <td>0</td>\n",
              "      <td>0</td>\n",
              "      <td>0</td>\n",
              "      <td>0</td>\n",
              "      <td>1</td>\n",
              "      <td>1</td>\n",
              "      <td>0</td>\n",
              "      <td>0</td>\n",
              "      <td>0</td>\n",
              "      <td>0</td>\n",
              "      <td>0</td>\n",
              "      <td>0</td>\n",
              "      <td>0</td>\n",
              "      <td>1</td>\n",
              "      <td>0</td>\n",
              "      <td>0</td>\n",
              "      <td>0</td>\n",
              "      <td>1</td>\n",
              "      <td>1</td>\n",
              "      <td>0</td>\n",
              "      <td>0</td>\n",
              "      <td>0</td>\n",
              "      <td>0</td>\n",
              "      <td>0</td>\n",
              "      <td>0</td>\n",
              "      <td>0</td>\n",
              "      <td>1</td>\n",
              "      <td>0</td>\n",
              "      <td>0</td>\n",
              "      <td>0</td>\n",
              "      <td>0</td>\n",
              "      <td>1</td>\n",
              "      <td>0</td>\n",
              "      <td>0</td>\n",
              "      <td>0</td>\n",
              "      <td>0</td>\n",
              "      <td>0</td>\n",
              "    </tr>\n",
              "    <tr>\n",
              "      <th>4</th>\n",
              "      <td>307201</td>\n",
              "      <td>159841.652</td>\n",
              "      <td>-1.106</td>\n",
              "      <td>-2.116</td>\n",
              "      <td>1.258</td>\n",
              "      <td>3.290</td>\n",
              "      <td>-0.265</td>\n",
              "      <td>0.472</td>\n",
              "      <td>0.758</td>\n",
              "      <td>-2.544</td>\n",
              "      <td>3.029</td>\n",
              "      <td>1</td>\n",
              "      <td>0</td>\n",
              "      <td>0</td>\n",
              "      <td>0</td>\n",
              "      <td>0</td>\n",
              "      <td>0</td>\n",
              "      <td>0</td>\n",
              "      <td>0</td>\n",
              "      <td>1</td>\n",
              "      <td>0</td>\n",
              "      <td>0</td>\n",
              "      <td>0</td>\n",
              "      <td>0</td>\n",
              "      <td>1</td>\n",
              "      <td>1</td>\n",
              "      <td>0</td>\n",
              "      <td>0</td>\n",
              "      <td>0</td>\n",
              "      <td>0</td>\n",
              "      <td>0</td>\n",
              "      <td>0</td>\n",
              "      <td>0</td>\n",
              "      <td>0</td>\n",
              "      <td>1</td>\n",
              "      <td>0</td>\n",
              "      <td>0</td>\n",
              "      <td>0</td>\n",
              "      <td>1</td>\n",
              "      <td>0</td>\n",
              "      <td>0</td>\n",
              "      <td>0</td>\n",
              "      <td>0</td>\n",
              "      <td>0</td>\n",
              "      <td>0</td>\n",
              "      <td>0</td>\n",
              "      <td>0</td>\n",
              "      <td>1</td>\n",
              "      <td>0</td>\n",
              "      <td>0</td>\n",
              "      <td>0</td>\n",
              "      <td>0</td>\n",
              "      <td>0</td>\n",
              "      <td>0</td>\n",
              "      <td>0</td>\n",
              "      <td>1</td>\n",
              "      <td>0</td>\n",
              "      <td>0</td>\n",
              "    </tr>\n",
              "  </tbody>\n",
              "</table>\n",
              "</div>\n",
              "      <button class=\"colab-df-convert\" onclick=\"convertToInteractive('df-024a81e1-0c5b-443f-8910-485cfe93861d')\"\n",
              "              title=\"Convert this dataframe to an interactive table.\"\n",
              "              style=\"display:none;\">\n",
              "        \n",
              "  <svg xmlns=\"http://www.w3.org/2000/svg\" height=\"24px\"viewBox=\"0 0 24 24\"\n",
              "       width=\"24px\">\n",
              "    <path d=\"M0 0h24v24H0V0z\" fill=\"none\"/>\n",
              "    <path d=\"M18.56 5.44l.94 2.06.94-2.06 2.06-.94-2.06-.94-.94-2.06-.94 2.06-2.06.94zm-11 1L8.5 8.5l.94-2.06 2.06-.94-2.06-.94L8.5 2.5l-.94 2.06-2.06.94zm10 10l.94 2.06.94-2.06 2.06-.94-2.06-.94-.94-2.06-.94 2.06-2.06.94z\"/><path d=\"M17.41 7.96l-1.37-1.37c-.4-.4-.92-.59-1.43-.59-.52 0-1.04.2-1.43.59L10.3 9.45l-7.72 7.72c-.78.78-.78 2.05 0 2.83L4 21.41c.39.39.9.59 1.41.59.51 0 1.02-.2 1.41-.59l7.78-7.78 2.81-2.81c.8-.78.8-2.07 0-2.86zM5.41 20L4 18.59l7.72-7.72 1.47 1.35L5.41 20z\"/>\n",
              "  </svg>\n",
              "      </button>\n",
              "      \n",
              "  <style>\n",
              "    .colab-df-container {\n",
              "      display:flex;\n",
              "      flex-wrap:wrap;\n",
              "      gap: 12px;\n",
              "    }\n",
              "\n",
              "    .colab-df-convert {\n",
              "      background-color: #E8F0FE;\n",
              "      border: none;\n",
              "      border-radius: 50%;\n",
              "      cursor: pointer;\n",
              "      display: none;\n",
              "      fill: #1967D2;\n",
              "      height: 32px;\n",
              "      padding: 0 0 0 0;\n",
              "      width: 32px;\n",
              "    }\n",
              "\n",
              "    .colab-df-convert:hover {\n",
              "      background-color: #E2EBFA;\n",
              "      box-shadow: 0px 1px 2px rgba(60, 64, 67, 0.3), 0px 1px 3px 1px rgba(60, 64, 67, 0.15);\n",
              "      fill: #174EA6;\n",
              "    }\n",
              "\n",
              "    [theme=dark] .colab-df-convert {\n",
              "      background-color: #3B4455;\n",
              "      fill: #D2E3FC;\n",
              "    }\n",
              "\n",
              "    [theme=dark] .colab-df-convert:hover {\n",
              "      background-color: #434B5C;\n",
              "      box-shadow: 0px 1px 3px 1px rgba(0, 0, 0, 0.15);\n",
              "      filter: drop-shadow(0px 1px 2px rgba(0, 0, 0, 0.3));\n",
              "      fill: #FFFFFF;\n",
              "    }\n",
              "  </style>\n",
              "\n",
              "      <script>\n",
              "        const buttonEl =\n",
              "          document.querySelector('#df-024a81e1-0c5b-443f-8910-485cfe93861d button.colab-df-convert');\n",
              "        buttonEl.style.display =\n",
              "          google.colab.kernel.accessAllowed ? 'block' : 'none';\n",
              "\n",
              "        async function convertToInteractive(key) {\n",
              "          const element = document.querySelector('#df-024a81e1-0c5b-443f-8910-485cfe93861d');\n",
              "          const dataTable =\n",
              "            await google.colab.kernel.invokeFunction('convertToInteractive',\n",
              "                                                     [key], {});\n",
              "          if (!dataTable) return;\n",
              "\n",
              "          const docLinkHtml = 'Like what you see? Visit the ' +\n",
              "            '<a target=\"_blank\" href=https://colab.research.google.com/notebooks/data_table.ipynb>data table notebook</a>'\n",
              "            + ' to learn more about interactive tables.';\n",
              "          element.innerHTML = '';\n",
              "          dataTable['output_type'] = 'display_data';\n",
              "          await google.colab.output.renderOutput(dataTable, element);\n",
              "          const docLink = document.createElement('div');\n",
              "          docLink.innerHTML = docLinkHtml;\n",
              "          element.appendChild(docLink);\n",
              "        }\n",
              "      </script>\n",
              "    </div>\n",
              "  </div>\n",
              "  "
            ],
            "text/plain": [
              "   video_id  cvt_per_day  weighted_categorical_position  \\\n",
              "0    385504   307127.606                         -1.106   \n",
              "1    300175   270338.426                         -1.106   \n",
              "2    361899   256165.867                         -1.106   \n",
              "3    308314   196622.721                         -0.780   \n",
              "4    307201   159841.652                         -1.106   \n",
              "\n",
              "   weighted_horizontal_poition  imdb_votes  budget  boxoffice  imdb_rating  \\\n",
              "0                       -2.116       1.984   1.470      4.696        0.542   \n",
              "1                       -2.116       1.258   1.470     -1.022        0.542   \n",
              "2                       -2.116       6.043   3.108      3.898        1.100   \n",
              "3                       -2.032      11.077   1.470      0.767        1.309   \n",
              "4                       -2.116       1.258   3.290     -0.265        0.472   \n",
              "\n",
              "   duration_in_mins  metacritic_score  star_category  lionsgate  mgm  other  \\\n",
              "0             1.079            -0.630          0.033          1    0      0   \n",
              "1             0.257            -1.997          3.434          1    0      0   \n",
              "2             1.243             0.327          2.102          0    0      1   \n",
              "3             1.952             5.250         -0.063          1    0      0   \n",
              "4             0.758            -2.544          3.029          1    0      0   \n",
              "\n",
              "   paramount  BAFTA  Golden Globe  Oscar  no award  other award  Action  \\\n",
              "0          0      0             0      0         0            1       1   \n",
              "1          0      0             0      0         1            0       0   \n",
              "2          0      0             0      0         0            1       0   \n",
              "3          0      0             0      1         0            0       1   \n",
              "4          0      0             0      0         0            1       0   \n",
              "\n",
              "   Adventure  Animation  Comedy  Crime  Documentary  Drama  Fantasy  \\\n",
              "0          0          0       0      0            0      1        0   \n",
              "1          0          0       1      1            0      0        0   \n",
              "2          0          0       0      1            0      1        0   \n",
              "3          0          0       0      0            1      1        0   \n",
              "4          0          0       0      1            1      0        0   \n",
              "\n",
              "   Foreign/International  Horror  Independent  Kids & Family  Music  Musicals  \\\n",
              "0                      0       0            0              0      0         0   \n",
              "1                      0       0            0              0      0         0   \n",
              "2                      0       0            0              0      0         0   \n",
              "3                      0       0            0              0      0         0   \n",
              "4                      0       0            0              0      0         0   \n",
              "\n",
              "   Mystery  Romance  Sci-Fi  Sport  Thriller  War  Western  Misc_genres  G  \\\n",
              "0        0        0       0      0         1    0        0            0  0   \n",
              "1        0        0       0      0         1    0        0            0  0   \n",
              "2        0        0       0      0         0    0        0            0  0   \n",
              "3        1        0       0      0         1    1        0            0  0   \n",
              "4        1        0       0      0         1    0        0            0  0   \n",
              "\n",
              "   NC-17  NotRated  PG  PG-13  R  1916-1974  1974-1991  1991-2001  2001-2006  \\\n",
              "0      0         0   0      1  0          0          0          0          0   \n",
              "1      0         0   0      0  1          0          0          0          0   \n",
              "2      0         0   0      0  1          0          0          0          0   \n",
              "3      0         0   0      0  1          0          0          0          0   \n",
              "4      0         0   0      0  1          0          0          0          0   \n",
              "\n",
              "   2006-2008  2008-2010  2010-2012  2012-2013  2013-2014  2014-2017  \n",
              "0          0          0          0          1          0          0  \n",
              "1          0          0          0          1          0          0  \n",
              "2          0          0          1          0          0          0  \n",
              "3          1          0          0          0          0          0  \n",
              "4          0          0          0          1          0          0  "
            ]
          },
          "metadata": {},
          "execution_count": 21
        }
      ]
    },
    {
      "cell_type": "code",
      "source": [
        "train, test = train_test_split(newTV_sc, test_size = 0.15, random_state = 3)\n",
        "model_train_x = train.drop(['video_id','cvt_per_day'], axis = 1)\n",
        "model_test_x = test.drop(['video_id','cvt_per_day'], axis = 1)\n",
        "model_train_y = train['cvt_per_day']\n",
        "model_test_y = test['cvt_per_day']"
      ],
      "metadata": {
        "id": "dxJgxYH6Ry0K"
      },
      "execution_count": null,
      "outputs": []
    },
    {
      "cell_type": "code",
      "source": [
        "from sklearn.model_selection import train_test_split\n",
        "from sklearn.linear_model import LinearRegression, Lasso, Ridge\n",
        "from sklearn.metrics import mean_squared_error, r2_score\n",
        "from math import sqrt\n",
        "\n",
        "lr_train, lr_validate = train_test_split(train, test_size = 0.15, random_state = 0)\n",
        "lr_train_x = lr_train.drop(['video_id','cvt_per_day'], axis = 1)\n",
        "lr_validate_x = lr_validate.drop(['video_id','cvt_per_day'], axis = 1)\n",
        "lr_train_y = lr_train['cvt_per_day']\n",
        "lr_validate_y = lr_validate['cvt_per_day']\n",
        "\n",
        "alphas = np.linspace (1, 201, num = 500)\n",
        "scores = np.empty_like(alphas)\n",
        "opt_a = float('-inf')\n",
        "max_score = float('-inf')\n",
        "for i, a in enumerate(alphas):\n",
        "  lasso = Lasso()\n",
        "  lasso.set_params(alpha = a)\n",
        "  lasso.fit(lr_train_x, lr_train_y)\n",
        "  scores[i] = lasso.score(lr_validate_x, lr_validate_y)\n",
        "  if scores[i] > max_score:\n",
        "    max_score = scores[i]\n",
        "    opt_a = a\n",
        "    lasso_save = lasso\n",
        "plt.plot(alphas, scores, color='b', linestyle='dashed', marker='o',markerfacecolor='blue', markersize=6)\n",
        "plt.xlabel('alpha')\n",
        "plt.ylabel('score')\n",
        "plt.grid(True)\n",
        "plt.title('score vs. alpha')\n",
        "plt.show()\n",
        "model1_para = opt_a\n",
        "print ('The optimaized alpha and score of Lasso linear is: '), opt_a, max_score\n"
      ],
      "metadata": {
        "colab": {
          "base_uri": "https://localhost:8080/",
          "height": 330
        },
        "id": "mmQqRKZhZ2tu",
        "outputId": "84c1759d-631d-45d2-86e6-bb0f7c0744ee"
      },
      "execution_count": null,
      "outputs": [
        {
          "output_type": "display_data",
          "data": {
            "image/png": "[encoded data removed]",
            "text/plain": [
              "<Figure size 432x288 with 1 Axes>"
            ]
          },
          "metadata": {
            "needs_background": "light"
          }
        },
        {
          "output_type": "stream",
          "name": "stdout",
          "text": [
            "The optimaized alpha and score of Lasso linear is: \n"
          ]
        },
        {
          "output_type": "execute_result",
          "data": {
            "text/plain": [
              "(None, 125.64929859719439, 0.3646193144939073)"
            ]
          },
          "metadata": {},
          "execution_count": 25
        }
      ]
    },
    {
      "cell_type": "code",
      "source": [
        "lasso_f = Lasso()\n",
        "lasso_f.set_params(alpha = opt_a)\n",
        "lasso_f.fit(model_train_x, model_train_y)"
      ],
      "metadata": {
        "colab": {
          "base_uri": "https://localhost:8080/"
        },
        "id": "l6twQzTZbqfp",
        "outputId": "8811124e-6cf4-47e2-a052-f2160681e60a"
      },
      "execution_count": null,
      "outputs": [
        {
          "output_type": "execute_result",
          "data": {
            "text/plain": [
              "Lasso(alpha=125.64929859719439)"
            ]
          },
          "metadata": {},
          "execution_count": 26
        }
      ]
    },
    {
      "cell_type": "code",
      "source": [
        "lr_train, lr_validate = train_test_split(train, test_size=0.15, random_state = 0)\n",
        "\n",
        "alphas = np.linspace (1, 201, num=500)\n",
        "scores = np.empty_like(alphas)\n",
        "opt_a = float('-inf')\n",
        "max_score = float('-inf')\n",
        "for i, a in enumerate(alphas):\n",
        "    ridge = Ridge()\n",
        "    ridge.set_params(alpha = a)\n",
        "    ridge.fit(lr_train_x, lr_train_y)\n",
        "    scores[i] = ridge.score(lr_validate_x, lr_validate_y)\n",
        "    if scores[i] > max_score:\n",
        "        max_score = scores[i]\n",
        "        opt_a = a\n",
        "        ridge_save = ridge\n",
        "plt.plot(alphas, scores, color='r', linestyle='dashed', marker='o',markerfacecolor='r', markersize=6)\n",
        "plt.xlabel('alpha')\n",
        "plt.ylabel('score')\n",
        "plt.grid(True)\n",
        "plt.title('score vs. alpha')\n",
        "plt.show()\n",
        "model3_para = opt_a\n",
        "print ('The optimaized alpha and score of Ridge linear is: '), opt_a, max_score"
      ],
      "metadata": {
        "colab": {
          "base_uri": "https://localhost:8080/",
          "height": 330
        },
        "id": "1HH3JgfRbzjY",
        "outputId": "d918f48c-b972-47e3-fd39-7b3ac03a12c6"
      },
      "execution_count": null,
      "outputs": [
        {
          "output_type": "display_data",
          "data": {
            "image/png": "[encoded data removed]",
            "text/plain": [
              "<Figure size 432x288 with 1 Axes>"
            ]
          },
          "metadata": {
            "needs_background": "light"
          }
        },
        {
          "output_type": "stream",
          "name": "stdout",
          "text": [
            "The optimaized alpha and score of Ridge linear is: \n"
          ]
        },
        {
          "output_type": "execute_result",
          "data": {
            "text/plain": [
              "(None, 172.5430861723447, 0.3529726994066541)"
            ]
          },
          "metadata": {},
          "execution_count": 27
        }
      ]
    },
    {
      "cell_type": "code",
      "source": [
        "ridge_f = Ridge()\n",
        "ridge_f.set_params(alpha = opt_a)\n",
        "ridge_f.fit(model_train_x, model_train_y)"
      ],
      "metadata": {
        "colab": {
          "base_uri": "https://localhost:8080/"
        },
        "id": "3wM-mNWAcFMV",
        "outputId": "2d6b1fa4-5b61-4f01-fb73-af0bd21893c6"
      },
      "execution_count": null,
      "outputs": [
        {
          "output_type": "execute_result",
          "data": {
            "text/plain": [
              "Ridge(alpha=172.5430861723447)"
            ]
          },
          "metadata": {},
          "execution_count": 28
        }
      ]
    },
    {
      "cell_type": "code",
      "source": [
        "from sklearn.ensemble import RandomForestRegressor\n",
        "from sklearn.model_selection import GridSearchCV\n",
        "rf=RandomForestRegressor(random_state=2,max_features='sqrt',n_jobs=-1)\n",
        "param_grid={'n_estimators':[55,56,57,58,59,60,61,62,63,64,65],'max_depth':[15,16,17,18,19,20,21]}\n",
        "clf=GridSearchCV(estimator=rf,param_grid=param_grid,cv=5,refit=True,n_jobs=-1,pre_dispatch='2*n_jobs')\n",
        "clf.fit(model_train_x,model_train_y)"
      ],
      "metadata": {
        "colab": {
          "base_uri": "https://localhost:8080/"
        },
        "id": "sFSAQkArcPWT",
        "outputId": "962ef238-1ef5-4c91-cf46-c8c8570ea891"
      },
      "execution_count": null,
      "outputs": [
        {
          "output_type": "execute_result",
          "data": {
            "text/plain": [
              "GridSearchCV(cv=5,\n",
              "             estimator=RandomForestRegressor(max_features='sqrt', n_jobs=-1,\n",
              "                                             random_state=2),\n",
              "             n_jobs=-1,\n",
              "             param_grid={'max_depth': [15, 16, 17, 18, 19, 20, 21],\n",
              "                         'n_estimators': [55, 56, 57, 58, 59, 60, 61, 62, 63,\n",
              "                                          64, 65]})"
            ]
          },
          "metadata": {},
          "execution_count": 29
        }
      ]
    },
    {
      "cell_type": "code",
      "source": [
        "result=clf.cv_results_\n",
        "print(result)\n",
        "max_depth=[15,16,17,18,19,20,21]\n",
        "n_estimators=[55,56,57,58,59,60,61,62,63,64,65]\n",
        "scores=clf.cv_results_['mean_test_score'].reshape(len(max_depth),len(n_estimators))\n",
        "plt.figure(1)\n",
        "plt.subplot(1,1,1)\n",
        "for i,j in enumerate(max_depth):\n",
        "  plt.plot(n_estimators,scores[i],'-o',label='max_depths is: '+str(j))\n",
        "plt.legend(bbox_to_anchor=(1.05, 1), loc='upper left', borderaxespad=0.)\n",
        "plt.xlabel('n_estimators')\n",
        "plt.ylabel('mean_test_score')\n",
        "plt.show()\n",
        "print('the best parameter for max_depth is: '+str(clf.best_params_['max_depth']))\n",
        "print('the best parameter for n_estimators is: '+str(clf.best_params_['n_estimators']))"
      ],
      "metadata": {
        "colab": {
          "base_uri": "https://localhost:8080/",
          "height": 1000
        },
        "id": "t2pcO0SieIIl",
        "outputId": "29052e34-714a-4618-805a-1ca15b20bdae"
      },
      "execution_count": null,
      "outputs": [
        {
          "output_type": "stream",
          "name": "stdout",
          "text": [
            "{'mean_fit_time': array([0.40253243, 0.42112474, 0.42503881, 0.4491497 , 0.42576818,\n",
            "       0.45372519, 0.42182722, 0.45121269, 0.42488542, 0.47039227,\n",
            "       0.5257226 , 0.44115438, 0.42464471, 0.44849124, 0.44085522,\n",
            "       0.42389541, 0.42647114, 0.43556366, 0.43244081, 0.44677668,\n",
            "       0.43839626, 0.4413075 , 0.41224599, 0.41075068, 0.40956178,\n",
            "       0.44471645, 0.44717059, 0.4331183 , 0.4547915 , 0.43217106,\n",
            "       0.50872345, 0.55297937, 0.53767362, 0.53045058, 0.55124674,\n",
            "       0.55340362, 0.52297029, 0.52062011, 0.55459824, 0.53066421,\n",
            "       0.54586616, 0.52749639, 0.56384492, 0.5601922 , 0.43617277,\n",
            "       0.42642241, 0.44007802, 0.45716438, 0.45401826, 0.5085227 ,\n",
            "       0.51714635, 0.53160725, 0.54784112, 0.53936877, 0.54860101,\n",
            "       0.46860461, 0.42838988, 0.45663104, 0.45657902, 0.47607512,\n",
            "       0.4885087 , 0.53396668, 0.56551089, 0.58978496, 0.53118687,\n",
            "       0.8365243 , 0.52418122, 0.52358003, 0.54745164, 0.54376483,\n",
            "       0.5291842 , 0.5489759 , 0.52137818, 0.55424395, 0.51956282,\n",
            "       0.5242425 , 0.50643682]), 'std_fit_time': array([0.05273809, 0.03906318, 0.04153111, 0.01498397, 0.03704433,\n",
            "       0.0172099 , 0.03340923, 0.01180571, 0.03428103, 0.03616196,\n",
            "       0.0385278 , 0.0127123 , 0.03861866, 0.01555307, 0.01292112,\n",
            "       0.03801571, 0.04657845, 0.04449575, 0.05387975, 0.0063972 ,\n",
            "       0.04702712, 0.04344591, 0.05506233, 0.057239  , 0.03966258,\n",
            "       0.01700882, 0.01708134, 0.05239705, 0.00527943, 0.04036257,\n",
            "       0.04153248, 0.00938159, 0.01044786, 0.04248115, 0.00279877,\n",
            "       0.00910943, 0.0322623 , 0.03846241, 0.01039653, 0.03125757,\n",
            "       0.0111178 , 0.02945394, 0.033207  , 0.023588  , 0.01022765,\n",
            "       0.03146713, 0.01015188, 0.00888366, 0.00887334, 0.04737036,\n",
            "       0.04294652, 0.06867799, 0.00787695, 0.03685328, 0.01720684,\n",
            "       0.04319358, 0.03649155, 0.01645408, 0.00564403, 0.03629907,\n",
            "       0.03728698, 0.04415885, 0.07078006, 0.05165712, 0.04129885,\n",
            "       0.30183972, 0.03085291, 0.03811081, 0.01180334, 0.0120082 ,\n",
            "       0.02520649, 0.00979909, 0.03289684, 0.01390996, 0.04702513,\n",
            "       0.05234704, 0.09045677]), 'mean_score_time': array([0.10914049, 0.10815158, 0.10751038, 0.10780983, 0.11085081,\n",
            "       0.10618725, 0.10752616, 0.10916634, 0.10998845, 0.1073081 ,\n",
            "       0.10471787, 0.11071377, 0.10870113, 0.11046333, 0.10777469,\n",
            "       0.10819368, 0.1088263 , 0.10975299, 0.11051884, 0.11170082,\n",
            "       0.11109943, 0.11185594, 0.11045475, 0.10993047, 0.10776067,\n",
            "       0.10969172, 0.10935855, 0.10905786, 0.10997381, 0.10887656,\n",
            "       0.10504665, 0.10528603, 0.10634022, 0.10609736, 0.10551648,\n",
            "       0.10495744, 0.10469303, 0.10493155, 0.10492406, 0.10598621,\n",
            "       0.10705447, 0.10680509, 0.10625954, 0.10793967, 0.11309023,\n",
            "       0.10957012, 0.10816565, 0.11222763, 0.10949087, 0.1068131 ,\n",
            "       0.11087556, 0.10663743, 0.10987053, 0.10605955, 0.11023426,\n",
            "       0.11457124, 0.11041865, 0.11297693, 0.11500106, 0.10932508,\n",
            "       0.11447945, 0.10584335, 0.10643377, 0.10573444, 0.11110091,\n",
            "       0.10928092, 0.10528331, 0.10526166, 0.10485249, 0.10687284,\n",
            "       0.10674987, 0.10747962, 0.10918083, 0.10931892, 0.11417279,\n",
            "       0.11090126, 0.11125526]), 'std_score_time': array([0.00304591, 0.00308413, 0.0017415 , 0.00340923, 0.0042466 ,\n",
            "       0.00096482, 0.00184864, 0.00400082, 0.00294905, 0.00251123,\n",
            "       0.00014964, 0.00534209, 0.00283561, 0.00492257, 0.00286172,\n",
            "       0.00253827, 0.00322726, 0.00405179, 0.00224106, 0.00282445,\n",
            "       0.00342698, 0.00299871, 0.00167458, 0.00220104, 0.00190007,\n",
            "       0.00369587, 0.00429507, 0.00338653, 0.00186897, 0.00230715,\n",
            "       0.00097801, 0.00130414, 0.00211415, 0.00152371, 0.00113256,\n",
            "       0.00038182, 0.00024161, 0.00061414, 0.00018998, 0.00250318,\n",
            "       0.00451839, 0.00345152, 0.00184856, 0.00310525, 0.0041027 ,\n",
            "       0.00166259, 0.00382246, 0.00255347, 0.00514916, 0.00247011,\n",
            "       0.00325809, 0.00294746, 0.00244611, 0.00138034, 0.00337949,\n",
            "       0.0018123 , 0.00213638, 0.00486105, 0.00228187, 0.00182968,\n",
            "       0.00754877, 0.00093459, 0.00287665, 0.00115828, 0.0048868 ,\n",
            "       0.00567583, 0.00130775, 0.00060498, 0.00018638, 0.00290166,\n",
            "       0.00271142, 0.00307568, 0.0041428 , 0.00366567, 0.00213324,\n",
            "       0.00367815, 0.00568752]), 'param_max_depth': masked_array(data=[15, 15, 15, 15, 15, 15, 15, 15, 15, 15, 15, 16, 16, 16,\n",
            "                   16, 16, 16, 16, 16, 16, 16, 16, 17, 17, 17, 17, 17, 17,\n",
            "                   17, 17, 17, 17, 17, 18, 18, 18, 18, 18, 18, 18, 18, 18,\n",
            "                   18, 18, 19, 19, 19, 19, 19, 19, 19, 19, 19, 19, 19, 20,\n",
            "                   20, 20, 20, 20, 20, 20, 20, 20, 20, 20, 21, 21, 21, 21,\n",
            "                   21, 21, 21, 21, 21, 21, 21],\n",
            "             mask=[False, False, False, False, False, False, False, False,\n",
            "                   False, False, False, False, False, False, False, False,\n",
            "                   False, False, False, False, False, False, False, False,\n",
            "                   False, False, False, False, False, False, False, False,\n",
            "                   False, False, False, False, False, False, False, False,\n",
            "                   False, False, False, False, False, False, False, False,\n",
            "                   False, False, False, False, False, False, False, False,\n",
            "                   False, False, False, False, False, False, False, False,\n",
            "                   False, False, False, False, False, False, False, False,\n",
            "                   False, False, False, False, False],\n",
            "       fill_value='?',\n",
            "            dtype=object), 'param_n_estimators': masked_array(data=[55, 56, 57, 58, 59, 60, 61, 62, 63, 64, 65, 55, 56, 57,\n",
            "                   58, 59, 60, 61, 62, 63, 64, 65, 55, 56, 57, 58, 59, 60,\n",
            "                   61, 62, 63, 64, 65, 55, 56, 57, 58, 59, 60, 61, 62, 63,\n",
            "                   64, 65, 55, 56, 57, 58, 59, 60, 61, 62, 63, 64, 65, 55,\n",
            "                   56, 57, 58, 59, 60, 61, 62, 63, 64, 65, 55, 56, 57, 58,\n",
            "                   59, 60, 61, 62, 63, 64, 65],\n",
            "             mask=[False, False, False, False, False, False, False, False,\n",
            "                   False, False, False, False, False, False, False, False,\n",
            "                   False, False, False, False, False, False, False, False,\n",
            "                   False, False, False, False, False, False, False, False,\n",
            "                   False, False, False, False, False, False, False, False,\n",
            "                   False, False, False, False, False, False, False, False,\n",
            "                   False, False, False, False, False, False, False, False,\n",
            "                   False, False, False, False, False, False, False, False,\n",
            "                   False, False, False, False, False, False, False, False,\n",
            "                   False, False, False, False, False],\n",
            "       fill_value='?',\n",
            "            dtype=object), 'params': [{'max_depth': 15, 'n_estimators': 55}, {'max_depth': 15, 'n_estimators': 56}, {'max_depth': 15, 'n_estimators': 57}, {'max_depth': 15, 'n_estimators': 58}, {'max_depth': 15, 'n_estimators': 59}, {'max_depth': 15, 'n_estimators': 60}, {'max_depth': 15, 'n_estimators': 61}, {'max_depth': 15, 'n_estimators': 62}, {'max_depth': 15, 'n_estimators': 63}, {'max_depth': 15, 'n_estimators': 64}, {'max_depth': 15, 'n_estimators': 65}, {'max_depth': 16, 'n_estimators': 55}, {'max_depth': 16, 'n_estimators': 56}, {'max_depth': 16, 'n_estimators': 57}, {'max_depth': 16, 'n_estimators': 58}, {'max_depth': 16, 'n_estimators': 59}, {'max_depth': 16, 'n_estimators': 60}, {'max_depth': 16, 'n_estimators': 61}, {'max_depth': 16, 'n_estimators': 62}, {'max_depth': 16, 'n_estimators': 63}, {'max_depth': 16, 'n_estimators': 64}, {'max_depth': 16, 'n_estimators': 65}, {'max_depth': 17, 'n_estimators': 55}, {'max_depth': 17, 'n_estimators': 56}, {'max_depth': 17, 'n_estimators': 57}, {'max_depth': 17, 'n_estimators': 58}, {'max_depth': 17, 'n_estimators': 59}, {'max_depth': 17, 'n_estimators': 60}, {'max_depth': 17, 'n_estimators': 61}, {'max_depth': 17, 'n_estimators': 62}, {'max_depth': 17, 'n_estimators': 63}, {'max_depth': 17, 'n_estimators': 64}, {'max_depth': 17, 'n_estimators': 65}, {'max_depth': 18, 'n_estimators': 55}, {'max_depth': 18, 'n_estimators': 56}, {'max_depth': 18, 'n_estimators': 57}, {'max_depth': 18, 'n_estimators': 58}, {'max_depth': 18, 'n_estimators': 59}, {'max_depth': 18, 'n_estimators': 60}, {'max_depth': 18, 'n_estimators': 61}, {'max_depth': 18, 'n_estimators': 62}, {'max_depth': 18, 'n_estimators': 63}, {'max_depth': 18, 'n_estimators': 64}, {'max_depth': 18, 'n_estimators': 65}, {'max_depth': 19, 'n_estimators': 55}, {'max_depth': 19, 'n_estimators': 56}, {'max_depth': 19, 'n_estimators': 57}, {'max_depth': 19, 'n_estimators': 58}, {'max_depth': 19, 'n_estimators': 59}, {'max_depth': 19, 'n_estimators': 60}, {'max_depth': 19, 'n_estimators': 61}, {'max_depth': 19, 'n_estimators': 62}, {'max_depth': 19, 'n_estimators': 63}, {'max_depth': 19, 'n_estimators': 64}, {'max_depth': 19, 'n_estimators': 65}, {'max_depth': 20, 'n_estimators': 55}, {'max_depth': 20, 'n_estimators': 56}, {'max_depth': 20, 'n_estimators': 57}, {'max_depth': 20, 'n_estimators': 58}, {'max_depth': 20, 'n_estimators': 59}, {'max_depth': 20, 'n_estimators': 60}, {'max_depth': 20, 'n_estimators': 61}, {'max_depth': 20, 'n_estimators': 62}, {'max_depth': 20, 'n_estimators': 63}, {'max_depth': 20, 'n_estimators': 64}, {'max_depth': 20, 'n_estimators': 65}, {'max_depth': 21, 'n_estimators': 55}, {'max_depth': 21, 'n_estimators': 56}, {'max_depth': 21, 'n_estimators': 57}, {'max_depth': 21, 'n_estimators': 58}, {'max_depth': 21, 'n_estimators': 59}, {'max_depth': 21, 'n_estimators': 60}, {'max_depth': 21, 'n_estimators': 61}, {'max_depth': 21, 'n_estimators': 62}, {'max_depth': 21, 'n_estimators': 63}, {'max_depth': 21, 'n_estimators': 64}, {'max_depth': 21, 'n_estimators': 65}], 'split0_test_score': array([0.3907719 , 0.39186554, 0.38810617, 0.38974143, 0.38688405,\n",
            "       0.39128413, 0.38752566, 0.38911961, 0.38705724, 0.39097713,\n",
            "       0.3955533 , 0.33884314, 0.33845784, 0.33700176, 0.33797101,\n",
            "       0.34056687, 0.33762246, 0.33760911, 0.34078459, 0.3390721 ,\n",
            "       0.34305024, 0.34848502, 0.37171212, 0.36294274, 0.36632338,\n",
            "       0.36856142, 0.373902  , 0.37431883, 0.37177531, 0.37154646,\n",
            "       0.37423011, 0.38814511, 0.38849081, 0.42529216, 0.42725351,\n",
            "       0.4216239 , 0.42062103, 0.42035296, 0.43447216, 0.43058826,\n",
            "       0.43102832, 0.42806206, 0.43040414, 0.43144974, 0.41049758,\n",
            "       0.407155  , 0.4024881 , 0.40324726, 0.40515464, 0.40226924,\n",
            "       0.40033503, 0.40211704, 0.4011213 , 0.40130291, 0.40572618,\n",
            "       0.38794587, 0.38882546, 0.3838625 , 0.38371763, 0.38092215,\n",
            "       0.37875355, 0.37599856, 0.37981653, 0.38292946, 0.38432891,\n",
            "       0.38900947, 0.38523181, 0.37939556, 0.37402802, 0.37217606,\n",
            "       0.37314338, 0.37701401, 0.3722099 , 0.37403282, 0.37761967,\n",
            "       0.38232951, 0.3858729 ]), 'split1_test_score': array([0.5289904 , 0.52706394, 0.52798096, 0.5449239 , 0.55351583,\n",
            "       0.55501047, 0.55345027, 0.55577366, 0.55294516, 0.55142273,\n",
            "       0.55227377, 0.48915206, 0.49228762, 0.49390779, 0.5092034 ,\n",
            "       0.50883276, 0.51300574, 0.51169421, 0.51415354, 0.51407692,\n",
            "       0.51384849, 0.51576354, 0.55589533, 0.54862737, 0.54798139,\n",
            "       0.5635031 , 0.57159606, 0.5710352 , 0.56925765, 0.57206398,\n",
            "       0.57558239, 0.5756748 , 0.57776128, 0.57035903, 0.57102118,\n",
            "       0.56787299, 0.58177777, 0.57814995, 0.57709727, 0.57294856,\n",
            "       0.57478629, 0.57216809, 0.57553173, 0.57436576, 0.54359338,\n",
            "       0.54036664, 0.54244457, 0.55672439, 0.55462737, 0.55319383,\n",
            "       0.54974005, 0.5526871 , 0.55354054, 0.5534275 , 0.55146175,\n",
            "       0.54042387, 0.53964633, 0.5366272 , 0.55170161, 0.55038914,\n",
            "       0.55028093, 0.54755526, 0.55073263, 0.55083885, 0.55139489,\n",
            "       0.5512124 , 0.54629288, 0.54501648, 0.54533035, 0.55829833,\n",
            "       0.56070573, 0.56433459, 0.56173384, 0.55985465, 0.5565576 ,\n",
            "       0.55655064, 0.5552231 ]), 'split2_test_score': array([0.36955778, 0.36740233, 0.36563935, 0.3675919 , 0.36663202,\n",
            "       0.36946531, 0.3710974 , 0.36930854, 0.36930372, 0.37012923,\n",
            "       0.37583638, 0.42619008, 0.42555387, 0.42900705, 0.43056444,\n",
            "       0.43015483, 0.43293148, 0.429372  , 0.4258701 , 0.42839705,\n",
            "       0.43037167, 0.43189573, 0.40671229, 0.40671884, 0.40838275,\n",
            "       0.41151694, 0.41035372, 0.40922018, 0.40867114, 0.4065239 ,\n",
            "       0.40775893, 0.40704179, 0.40592752, 0.39098592, 0.38979918,\n",
            "       0.3908679 , 0.39774627, 0.39545508, 0.39429809, 0.39238282,\n",
            "       0.38924092, 0.38814124, 0.39141583, 0.39509262, 0.38412646,\n",
            "       0.38457434, 0.38846008, 0.39087456, 0.38870992, 0.39060557,\n",
            "       0.38870093, 0.38768778, 0.38623379, 0.38902967, 0.38872802,\n",
            "       0.38895971, 0.386889  , 0.38752094, 0.39180288, 0.38951123,\n",
            "       0.39427182, 0.39169222, 0.39126077, 0.38899976, 0.39021526,\n",
            "       0.38800385, 0.3891632 , 0.38693908, 0.38550813, 0.3895032 ,\n",
            "       0.38956774, 0.38925964, 0.38661337, 0.38444155, 0.38711694,\n",
            "       0.38523561, 0.38989226]), 'split3_test_score': array([0.6192779 , 0.61735363, 0.61541616, 0.61623669, 0.61706011,\n",
            "       0.61703727, 0.61454438, 0.61719999, 0.62451299, 0.63097938,\n",
            "       0.63055849, 0.62848773, 0.62925607, 0.62833617, 0.62712734,\n",
            "       0.62870885, 0.62756658, 0.62558104, 0.62671434, 0.62454726,\n",
            "       0.6273108 , 0.63043255, 0.6575224 , 0.65697046, 0.65539293,\n",
            "       0.65684823, 0.65973859, 0.66068533, 0.65803423, 0.65779369,\n",
            "       0.6590423 , 0.65744577, 0.65894513, 0.64127188, 0.63887089,\n",
            "       0.63745293, 0.63831985, 0.64326494, 0.64042245, 0.63704977,\n",
            "       0.63463373, 0.6325721 , 0.63501563, 0.63970769, 0.67700313,\n",
            "       0.67579014, 0.67290394, 0.67309172, 0.67266855, 0.66785722,\n",
            "       0.66583916, 0.66793513, 0.6677348 , 0.66755653, 0.66715556,\n",
            "       0.66840381, 0.66898332, 0.66841974, 0.66991673, 0.67079233,\n",
            "       0.67021999, 0.66671439, 0.6653331 , 0.66623258, 0.66912934,\n",
            "       0.66785529, 0.64466939, 0.64299019, 0.64239327, 0.64330645,\n",
            "       0.6430309 , 0.64242608, 0.64029538, 0.63876922, 0.6362277 ,\n",
            "       0.63877725, 0.64173516]), 'split4_test_score': array([0.21789297, 0.22369969, 0.22578153, 0.22548849, 0.22320672,\n",
            "       0.22503161, 0.20695003, 0.20912328, 0.21024073, 0.21294244,\n",
            "       0.21400595, 0.25947433, 0.25307704, 0.25077514, 0.253297  ,\n",
            "       0.25866739, 0.25410844, 0.23992472, 0.2424655 , 0.2401323 ,\n",
            "       0.24544258, 0.2448053 , 0.2045568 , 0.20877405, 0.20923929,\n",
            "       0.21369363, 0.21792136, 0.21565865, 0.19952743, 0.20488889,\n",
            "       0.19802148, 0.20466286, 0.20155625, 0.23141154, 0.21931659,\n",
            "       0.21631375, 0.21833769, 0.22126394, 0.21523204, 0.19605096,\n",
            "       0.19596334, 0.20014768, 0.19513706, 0.19866533, 0.24720619,\n",
            "       0.25082711, 0.25093358, 0.25331239, 0.25667715, 0.25477438,\n",
            "       0.23960349, 0.2429456 , 0.24346549, 0.24423944, 0.24110167,\n",
            "       0.29115203, 0.29215934, 0.28825232, 0.29007054, 0.29047909,\n",
            "       0.2869525 , 0.27137984, 0.27023793, 0.26122645, 0.25805194,\n",
            "       0.26308984, 0.22543052, 0.23289771, 0.2305105 , 0.23050713,\n",
            "       0.23093463, 0.23282538, 0.2153808 , 0.21851243, 0.22534518,\n",
            "       0.23321266, 0.23428301]), 'mean_test_score': array([0.42529819, 0.42547703, 0.42458484, 0.42879648, 0.42945974,\n",
            "       0.43156576, 0.42671355, 0.42810501, 0.42881197, 0.43129018,\n",
            "       0.43364558, 0.42842947, 0.42772649, 0.42780558, 0.43163264,\n",
            "       0.43338614, 0.43304694, 0.42883622, 0.42999761, 0.42924513,\n",
            "       0.43200476, 0.43427643, 0.43927979, 0.43680669, 0.43746395,\n",
            "       0.44282466, 0.44670234, 0.44618364, 0.44145315, 0.44256339,\n",
            "       0.44292704, 0.44659407, 0.4465362 , 0.4518641 , 0.44925227,\n",
            "       0.44682629, 0.45136052, 0.45169737, 0.4523044 , 0.44580407,\n",
            "       0.44513052, 0.44421823, 0.44550088, 0.44785623, 0.45248535,\n",
            "       0.45174265, 0.45144606, 0.45545007, 0.45556753, 0.45374005,\n",
            "       0.44884373, 0.45067453, 0.45041919, 0.45111121, 0.45083464,\n",
            "       0.45537706, 0.45530069, 0.45293654, 0.45744188, 0.45641879,\n",
            "       0.45609576, 0.45066805, 0.4514762 , 0.45004542, 0.45062407,\n",
            "       0.45183417, 0.43815756, 0.43744781, 0.43555405, 0.43875823,\n",
            "       0.43947647, 0.44117194, 0.43524666, 0.43512214, 0.43657342,\n",
            "       0.43922113, 0.44140129]), 'std_test_score': array([0.13834463, 0.1359066 , 0.13522971, 0.13800351, 0.14063011,\n",
            "       0.13983827, 0.14440739, 0.14490416, 0.14612735, 0.14652587,\n",
            "       0.14552102, 0.12671788, 0.12904135, 0.12974481, 0.13024027,\n",
            "       0.12883761, 0.1306569 , 0.1338538 , 0.13335965, 0.1335926 ,\n",
            "       0.13233583, 0.13295301, 0.15617294, 0.15449013, 0.15342773,\n",
            "       0.15450929, 0.15488366, 0.15573792, 0.15981181, 0.15869839,\n",
            "       0.16139272, 0.15788074, 0.15960644, 0.14347676, 0.14674598,\n",
            "       0.1468968 , 0.1483789 , 0.14827921, 0.14889438, 0.15375474,\n",
            "       0.15370679, 0.1515417 , 0.1540513 , 0.15359748, 0.14648164,\n",
            "       0.1448573 , 0.14414832, 0.14517517, 0.14388501, 0.14280039,\n",
            "       0.14630025, 0.14634562, 0.14645133, 0.14590964, 0.14615093,\n",
            "       0.1330725 , 0.13303283, 0.13387192, 0.13548975, 0.13601382,\n",
            "       0.13647966, 0.13947121, 0.13942376, 0.14197178, 0.14354624,\n",
            "       0.1415534 , 0.14477207, 0.14253465, 0.14364275, 0.14584758,\n",
            "       0.14595314, 0.14552779, 0.15014913, 0.14849278, 0.14477354,\n",
            "       0.14295415, 0.14263494]), 'rank_test_score': array([76, 75, 77, 69, 65, 62, 74, 71, 68, 63, 57, 70, 73, 72, 61, 58, 59,\n",
            "       67, 64, 66, 60, 56, 45, 51, 49, 39, 30, 33, 41, 40, 38, 31, 32, 12,\n",
            "       26, 29, 18, 15, 11, 34, 36, 37, 35, 28, 10, 14, 17,  5,  4,  8, 27,\n",
            "       21, 24, 19, 20,  6,  7,  9,  1,  2,  3, 22, 16, 25, 23, 13, 48, 50,\n",
            "       53, 47, 44, 43, 54, 55, 52, 46, 42], dtype=int32)}\n"
          ]
        },
        {
          "output_type": "display_data",
          "data": {
            "image/png": "[encoded data removed]",
            "text/plain": [
              "<Figure size 432x288 with 1 Axes>"
            ]
          },
          "metadata": {
            "needs_background": "light"
          }
        },
        {
          "output_type": "stream",
          "name": "stdout",
          "text": [
            "the best parameter for max_depth is: 20\n",
            "the best parameter for n_estimators is: 58\n"
          ]
        }
      ]
    },
    {
      "cell_type": "code",
      "source": [
        "train_x = model_train_x\n",
        "train_y = model_train_y\n",
        "test_x = model_test_x\n",
        "test_y = model_test_y"
      ],
      "metadata": {
        "id": "k2G8cPcRf-_j"
      },
      "execution_count": null,
      "outputs": []
    },
    {
      "cell_type": "code",
      "source": [
        "from sklearn.linear_model import Lasso\n",
        "from sklearn.metrics import  mean_squared_error\n",
        "lasso=Lasso(alpha=model1_para)\n",
        "lasso.fit(train_x,train_y)\n",
        "pred_y=lasso.predict(test_x)\n",
        "lasso_score=lasso.score(test_x,test_y)\n",
        "MSE_lasso=mean_squared_error(test_y,pred_y)\n",
        "RMSE_lasso=np.sqrt(MSE_lasso)\n",
        "print ('lasso score: ', lasso_score)\n",
        "print ('Mean square error of lasso: ', MSE_lasso)\n",
        "print ('Root mean squared error of lasso:', RMSE_lasso)"
      ],
      "metadata": {
        "colab": {
          "base_uri": "https://localhost:8080/"
        },
        "id": "I0zG9ZL7gOd3",
        "outputId": "880dfe25-2e2b-4d70-e5f1-5c532738e5c5"
      },
      "execution_count": null,
      "outputs": [
        {
          "output_type": "stream",
          "name": "stdout",
          "text": [
            "lasso score:  0.09898110633218771\n",
            "Mean square error of lasso:  239103966.43337598\n",
            "Root mean squared error of lasso: 15462.98698290133\n"
          ]
        }
      ]
    },
    {
      "cell_type": "code",
      "source": [
        "from sklearn.metrics import  mean_squared_error\n",
        "ridge=Ridge(alpha=model3_para)\n",
        "ridge.fit(train_x,train_y)\n",
        "pred_y=ridge.predict(test_x)\n",
        "ridge_score=ridge.score(test_x,test_y)\n",
        "MSE_ridge=mean_squared_error(test_y,pred_y)\n",
        "RMSE_ridge=np.sqrt(MSE_ridge)\n",
        "print ('ridge score: ', ridge_score)\n",
        "print ('Mean square error of ridge: ', MSE_ridge)\n",
        "print ('Root mean squared error of ridge:', RMSE_ridge)"
      ],
      "metadata": {
        "colab": {
          "base_uri": "https://localhost:8080/"
        },
        "id": "qYD5ddHnmfln",
        "outputId": "c0ba5775-c85c-43dd-b7cf-0f4a9610926c"
      },
      "execution_count": null,
      "outputs": [
        {
          "output_type": "stream",
          "name": "stdout",
          "text": [
            "ridge score:  0.1138238752321652\n",
            "Mean square error of ridge:  235165131.2526933\n",
            "Root mean squared error of ridge: 15335.094758516925\n"
          ]
        }
      ]
    },
    {
      "cell_type": "code",
      "source": [
        "from sklearn.ensemble import RandomForestRegressor\n",
        "rf=RandomForestRegressor(n_estimators=clf.best_params_['n_estimators'],max_depth=clf.best_params_['max_depth'],max_features='sqrt',random_state=2,n_jobs=-1)\n",
        "rf.fit(train_x,train_y)\n",
        "pred_y=rf.predict(test_x)\n",
        "rf_score=rf.score(test_x,test_y)\n",
        "MSE_rf=mean_squared_error(test_y,pred_y)\n",
        "RMSE_rf=np.sqrt(MSE_rf)\n",
        "print ('rf score: ', rf_score)\n",
        "print ('Mean square error of rf: ', MSE_rf)\n",
        "print ('Root mean squared error of rf:', RMSE_rf)"
      ],
      "metadata": {
        "colab": {
          "base_uri": "https://localhost:8080/"
        },
        "id": "KNJmwW-Rn9En",
        "outputId": "d6a1f087-db64-4114-f8f3-52b8752ea857"
      },
      "execution_count": null,
      "outputs": [
        {
          "output_type": "stream",
          "name": "stdout",
          "text": [
            "rf score:  0.5508932055386692\n",
            "Mean square error of rf:  119179760.44958852\n",
            "Root mean squared error of rf: 10916.948312124066\n"
          ]
        }
      ]
    },
    {
      "cell_type": "code",
      "source": [
        "lst_score = [lasso_score, ridge_score, rf_score]\n",
        "MSE_lst =  [MSE_lasso, MSE_ridge, MSE_rf]\n",
        "RMSE_lst =  [RMSE_lasso, RMSE_ridge, RMSE_rf]\n",
        "model_lst = ['Lasso_linear', 'Ridge linear', 'Random forest']\n",
        "\n",
        "plt.figure(1)\n",
        "plt.plot(model_lst, lst_score, 'ro')\n",
        "plt.legend(['r-squre / score'])\n",
        "plt.xlabel('model names',fontsize =16)\n",
        "plt.ylabel('score / r square', fontsize =16)\n",
        "plt.grid(True)\n",
        "plt.show()\n",
        "\n",
        "plt.figure(2)\n",
        "plt.plot(model_lst, MSE_lst, 'g^')\n",
        "plt.legend(['mean square error (MSE)'])\n",
        "plt.xlabel('model names', fontsize =16)\n",
        "plt.ylabel('mean square error', fontsize =16)\n",
        "plt.grid(True)\n",
        "plt.show()\n",
        "\n",
        "plt.figure(3)\n",
        "plt.plot(model_lst, RMSE_lst, 'bs')\n",
        "plt.legend(['root mean square error (RMSE)'])\n",
        "plt.xlabel('model names', fontsize =16)\n",
        "plt.ylabel('root mean square error', fontsize =16)\n",
        "plt.grid(True)\n",
        "plt.show()"
      ],
      "metadata": {
        "colab": {
          "base_uri": "https://localhost:8080/",
          "height": 832
        },
        "id": "KgzteQBkoImp",
        "outputId": "2146332e-c2e4-4797-8f3d-ab92e87aeb0e"
      },
      "execution_count": null,
      "outputs": [
        {
          "output_type": "display_data",
          "data": {
            "image/png": "[encoded data removed]",
            "text/plain": [
              "<Figure size 432x288 with 1 Axes>"
            ]
          },
          "metadata": {
            "needs_background": "light"
          }
        },
        {
          "output_type": "display_data",
          "data": {
            "image/png": "[encoded data removed]",
            "text/plain": [
              "<Figure size 432x288 with 1 Axes>"
            ]
          },
          "metadata": {
            "needs_background": "light"
          }
        },
        {
          "output_type": "display_data",
          "data": {
            "image/png": "[encoded data removed]",
            "text/plain": [
              "<Figure size 432x288 with 1 Axes>"
            ]
          },
          "metadata": {
            "needs_background": "light"
          }
        }
      ]
    },
    {
      "cell_type": "code",
      "source": [
        "importances = rf.feature_importances_\n",
        "feature_name = train_x.columns.values\n",
        "indices = np.argsort(importances)[::-1]\n",
        "plt.figure(1)\n",
        "plt.bar(feature_name[indices[:20]], importances[indices[:20]])\n",
        "plt.xticks(rotation=90)\n",
        "plt.show()"
      ],
      "metadata": {
        "colab": {
          "base_uri": "https://localhost:8080/",
          "height": 407
        },
        "id": "ogMUgt6uorbm",
        "outputId": "4c6e8a11-e23d-4bad-a885-904c24f068fa"
      },
      "execution_count": null,
      "outputs": [
        {
          "output_type": "display_data",
          "data": {
            "image/png": "[encoded data removed]",
            "text/plain": [
              "<Figure size 432x288 with 1 Axes>"
            ]
          },
          "metadata": {
            "needs_background": "light"
          }
        }
      ]
    }
  ]
}